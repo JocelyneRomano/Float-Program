{
 "cells": [
  {
   "cell_type": "markdown",
   "id": "3eeb5029-21bc-4bf6-bf28-1a9d8c5a6048",
   "metadata": {},
   "source": [
    "## Imports"
   ]
  },
  {
   "cell_type": "code",
   "execution_count": 15,
   "id": "98be6d2a-79d2-442e-a22b-1ca99647c19c",
   "metadata": {},
   "outputs": [],
   "source": [
    "import xarray as xr\n",
    "import numpy as np\n",
    "import matplotlib.pyplot as plt\n",
    "import argopy\n",
    "import glob"
   ]
  },
  {
   "cell_type": "code",
   "execution_count": 19,
   "id": "b78d831d-d766-4ef9-84b1-04915af297bd",
   "metadata": {},
   "outputs": [
    {
     "data": {
      "text/plain": [
       "'/Users/Jocelyne/Desktop/Floats/5904675_HRQC.nc'"
      ]
     },
     "execution_count": 19,
     "metadata": {},
     "output_type": "execute_result"
    }
   ],
   "source": [
    "path='/Users/Jocelyne/Desktop/Floats/'\n",
    "files=glob.glob(path+'*.nc')\n",
    "files[0]"
   ]
  },
  {
   "cell_type": "code",
   "execution_count": 55,
   "id": "6b10f686-5a4c-46a5-8780-1c8de5e04ecc",
   "metadata": {},
   "outputs": [
    {
     "data": {
      "text/html": [
       "<div><svg style=\"position: absolute; width: 0; height: 0; overflow: hidden\">\n",
       "<defs>\n",
       "<symbol id=\"icon-database\" viewBox=\"0 0 32 32\">\n",
       "<path d=\"M16 0c-8.837 0-16 2.239-16 5v4c0 2.761 7.163 5 16 5s16-2.239 16-5v-4c0-2.761-7.163-5-16-5z\"></path>\n",
       "<path d=\"M16 17c-8.837 0-16-2.239-16-5v6c0 2.761 7.163 5 16 5s16-2.239 16-5v-6c0 2.761-7.163 5-16 5z\"></path>\n",
       "<path d=\"M16 26c-8.837 0-16-2.239-16-5v6c0 2.761 7.163 5 16 5s16-2.239 16-5v-6c0 2.761-7.163 5-16 5z\"></path>\n",
       "</symbol>\n",
       "<symbol id=\"icon-file-text2\" viewBox=\"0 0 32 32\">\n",
       "<path d=\"M28.681 7.159c-0.694-0.947-1.662-2.053-2.724-3.116s-2.169-2.030-3.116-2.724c-1.612-1.182-2.393-1.319-2.841-1.319h-15.5c-1.378 0-2.5 1.121-2.5 2.5v27c0 1.378 1.122 2.5 2.5 2.5h23c1.378 0 2.5-1.122 2.5-2.5v-19.5c0-0.448-0.137-1.23-1.319-2.841zM24.543 5.457c0.959 0.959 1.712 1.825 2.268 2.543h-4.811v-4.811c0.718 0.556 1.584 1.309 2.543 2.268zM28 29.5c0 0.271-0.229 0.5-0.5 0.5h-23c-0.271 0-0.5-0.229-0.5-0.5v-27c0-0.271 0.229-0.5 0.5-0.5 0 0 15.499-0 15.5 0v7c0 0.552 0.448 1 1 1h7v19.5z\"></path>\n",
       "<path d=\"M23 26h-14c-0.552 0-1-0.448-1-1s0.448-1 1-1h14c0.552 0 1 0.448 1 1s-0.448 1-1 1z\"></path>\n",
       "<path d=\"M23 22h-14c-0.552 0-1-0.448-1-1s0.448-1 1-1h14c0.552 0 1 0.448 1 1s-0.448 1-1 1z\"></path>\n",
       "<path d=\"M23 18h-14c-0.552 0-1-0.448-1-1s0.448-1 1-1h14c0.552 0 1 0.448 1 1s-0.448 1-1 1z\"></path>\n",
       "</symbol>\n",
       "</defs>\n",
       "</svg>\n",
       "<style>/* CSS stylesheet for displaying xarray objects in jupyterlab.\n",
       " *\n",
       " */\n",
       "\n",
       ":root {\n",
       "  --xr-font-color0: var(--jp-content-font-color0, rgba(0, 0, 0, 1));\n",
       "  --xr-font-color2: var(--jp-content-font-color2, rgba(0, 0, 0, 0.54));\n",
       "  --xr-font-color3: var(--jp-content-font-color3, rgba(0, 0, 0, 0.38));\n",
       "  --xr-border-color: var(--jp-border-color2, #e0e0e0);\n",
       "  --xr-disabled-color: var(--jp-layout-color3, #bdbdbd);\n",
       "  --xr-background-color: var(--jp-layout-color0, white);\n",
       "  --xr-background-color-row-even: var(--jp-layout-color1, white);\n",
       "  --xr-background-color-row-odd: var(--jp-layout-color2, #eeeeee);\n",
       "}\n",
       "\n",
       "html[theme=dark],\n",
       "body.vscode-dark {\n",
       "  --xr-font-color0: rgba(255, 255, 255, 1);\n",
       "  --xr-font-color2: rgba(255, 255, 255, 0.54);\n",
       "  --xr-font-color3: rgba(255, 255, 255, 0.38);\n",
       "  --xr-border-color: #1F1F1F;\n",
       "  --xr-disabled-color: #515151;\n",
       "  --xr-background-color: #111111;\n",
       "  --xr-background-color-row-even: #111111;\n",
       "  --xr-background-color-row-odd: #313131;\n",
       "}\n",
       "\n",
       ".xr-wrap {\n",
       "  display: block;\n",
       "  min-width: 300px;\n",
       "  max-width: 700px;\n",
       "}\n",
       "\n",
       ".xr-text-repr-fallback {\n",
       "  /* fallback to plain text repr when CSS is not injected (untrusted notebook) */\n",
       "  display: none;\n",
       "}\n",
       "\n",
       ".xr-header {\n",
       "  padding-top: 6px;\n",
       "  padding-bottom: 6px;\n",
       "  margin-bottom: 4px;\n",
       "  border-bottom: solid 1px var(--xr-border-color);\n",
       "}\n",
       "\n",
       ".xr-header > div,\n",
       ".xr-header > ul {\n",
       "  display: inline;\n",
       "  margin-top: 0;\n",
       "  margin-bottom: 0;\n",
       "}\n",
       "\n",
       ".xr-obj-type,\n",
       ".xr-array-name {\n",
       "  margin-left: 2px;\n",
       "  margin-right: 10px;\n",
       "}\n",
       "\n",
       ".xr-obj-type {\n",
       "  color: var(--xr-font-color2);\n",
       "}\n",
       "\n",
       ".xr-sections {\n",
       "  padding-left: 0 !important;\n",
       "  display: grid;\n",
       "  grid-template-columns: 150px auto auto 1fr 20px 20px;\n",
       "}\n",
       "\n",
       ".xr-section-item {\n",
       "  display: contents;\n",
       "}\n",
       "\n",
       ".xr-section-item input {\n",
       "  display: none;\n",
       "}\n",
       "\n",
       ".xr-section-item input + label {\n",
       "  color: var(--xr-disabled-color);\n",
       "}\n",
       "\n",
       ".xr-section-item input:enabled + label {\n",
       "  cursor: pointer;\n",
       "  color: var(--xr-font-color2);\n",
       "}\n",
       "\n",
       ".xr-section-item input:enabled + label:hover {\n",
       "  color: var(--xr-font-color0);\n",
       "}\n",
       "\n",
       ".xr-section-summary {\n",
       "  grid-column: 1;\n",
       "  color: var(--xr-font-color2);\n",
       "  font-weight: 500;\n",
       "}\n",
       "\n",
       ".xr-section-summary > span {\n",
       "  display: inline-block;\n",
       "  padding-left: 0.5em;\n",
       "}\n",
       "\n",
       ".xr-section-summary-in:disabled + label {\n",
       "  color: var(--xr-font-color2);\n",
       "}\n",
       "\n",
       ".xr-section-summary-in + label:before {\n",
       "  display: inline-block;\n",
       "  content: '►';\n",
       "  font-size: 11px;\n",
       "  width: 15px;\n",
       "  text-align: center;\n",
       "}\n",
       "\n",
       ".xr-section-summary-in:disabled + label:before {\n",
       "  color: var(--xr-disabled-color);\n",
       "}\n",
       "\n",
       ".xr-section-summary-in:checked + label:before {\n",
       "  content: '▼';\n",
       "}\n",
       "\n",
       ".xr-section-summary-in:checked + label > span {\n",
       "  display: none;\n",
       "}\n",
       "\n",
       ".xr-section-summary,\n",
       ".xr-section-inline-details {\n",
       "  padding-top: 4px;\n",
       "  padding-bottom: 4px;\n",
       "}\n",
       "\n",
       ".xr-section-inline-details {\n",
       "  grid-column: 2 / -1;\n",
       "}\n",
       "\n",
       ".xr-section-details {\n",
       "  display: none;\n",
       "  grid-column: 1 / -1;\n",
       "  margin-bottom: 5px;\n",
       "}\n",
       "\n",
       ".xr-section-summary-in:checked ~ .xr-section-details {\n",
       "  display: contents;\n",
       "}\n",
       "\n",
       ".xr-array-wrap {\n",
       "  grid-column: 1 / -1;\n",
       "  display: grid;\n",
       "  grid-template-columns: 20px auto;\n",
       "}\n",
       "\n",
       ".xr-array-wrap > label {\n",
       "  grid-column: 1;\n",
       "  vertical-align: top;\n",
       "}\n",
       "\n",
       ".xr-preview {\n",
       "  color: var(--xr-font-color3);\n",
       "}\n",
       "\n",
       ".xr-array-preview,\n",
       ".xr-array-data {\n",
       "  padding: 0 5px !important;\n",
       "  grid-column: 2;\n",
       "}\n",
       "\n",
       ".xr-array-data,\n",
       ".xr-array-in:checked ~ .xr-array-preview {\n",
       "  display: none;\n",
       "}\n",
       "\n",
       ".xr-array-in:checked ~ .xr-array-data,\n",
       ".xr-array-preview {\n",
       "  display: inline-block;\n",
       "}\n",
       "\n",
       ".xr-dim-list {\n",
       "  display: inline-block !important;\n",
       "  list-style: none;\n",
       "  padding: 0 !important;\n",
       "  margin: 0;\n",
       "}\n",
       "\n",
       ".xr-dim-list li {\n",
       "  display: inline-block;\n",
       "  padding: 0;\n",
       "  margin: 0;\n",
       "}\n",
       "\n",
       ".xr-dim-list:before {\n",
       "  content: '(';\n",
       "}\n",
       "\n",
       ".xr-dim-list:after {\n",
       "  content: ')';\n",
       "}\n",
       "\n",
       ".xr-dim-list li:not(:last-child):after {\n",
       "  content: ',';\n",
       "  padding-right: 5px;\n",
       "}\n",
       "\n",
       ".xr-has-index {\n",
       "  font-weight: bold;\n",
       "}\n",
       "\n",
       ".xr-var-list,\n",
       ".xr-var-item {\n",
       "  display: contents;\n",
       "}\n",
       "\n",
       ".xr-var-item > div,\n",
       ".xr-var-item label,\n",
       ".xr-var-item > .xr-var-name span {\n",
       "  background-color: var(--xr-background-color-row-even);\n",
       "  margin-bottom: 0;\n",
       "}\n",
       "\n",
       ".xr-var-item > .xr-var-name:hover span {\n",
       "  padding-right: 5px;\n",
       "}\n",
       "\n",
       ".xr-var-list > li:nth-child(odd) > div,\n",
       ".xr-var-list > li:nth-child(odd) > label,\n",
       ".xr-var-list > li:nth-child(odd) > .xr-var-name span {\n",
       "  background-color: var(--xr-background-color-row-odd);\n",
       "}\n",
       "\n",
       ".xr-var-name {\n",
       "  grid-column: 1;\n",
       "}\n",
       "\n",
       ".xr-var-dims {\n",
       "  grid-column: 2;\n",
       "}\n",
       "\n",
       ".xr-var-dtype {\n",
       "  grid-column: 3;\n",
       "  text-align: right;\n",
       "  color: var(--xr-font-color2);\n",
       "}\n",
       "\n",
       ".xr-var-preview {\n",
       "  grid-column: 4;\n",
       "}\n",
       "\n",
       ".xr-var-name,\n",
       ".xr-var-dims,\n",
       ".xr-var-dtype,\n",
       ".xr-preview,\n",
       ".xr-attrs dt {\n",
       "  white-space: nowrap;\n",
       "  overflow: hidden;\n",
       "  text-overflow: ellipsis;\n",
       "  padding-right: 10px;\n",
       "}\n",
       "\n",
       ".xr-var-name:hover,\n",
       ".xr-var-dims:hover,\n",
       ".xr-var-dtype:hover,\n",
       ".xr-attrs dt:hover {\n",
       "  overflow: visible;\n",
       "  width: auto;\n",
       "  z-index: 1;\n",
       "}\n",
       "\n",
       ".xr-var-attrs,\n",
       ".xr-var-data {\n",
       "  display: none;\n",
       "  background-color: var(--xr-background-color) !important;\n",
       "  padding-bottom: 5px !important;\n",
       "}\n",
       "\n",
       ".xr-var-attrs-in:checked ~ .xr-var-attrs,\n",
       ".xr-var-data-in:checked ~ .xr-var-data {\n",
       "  display: block;\n",
       "}\n",
       "\n",
       ".xr-var-data > table {\n",
       "  float: right;\n",
       "}\n",
       "\n",
       ".xr-var-name span,\n",
       ".xr-var-data,\n",
       ".xr-attrs {\n",
       "  padding-left: 25px !important;\n",
       "}\n",
       "\n",
       ".xr-attrs,\n",
       ".xr-var-attrs,\n",
       ".xr-var-data {\n",
       "  grid-column: 1 / -1;\n",
       "}\n",
       "\n",
       "dl.xr-attrs {\n",
       "  padding: 0;\n",
       "  margin: 0;\n",
       "  display: grid;\n",
       "  grid-template-columns: 125px auto;\n",
       "}\n",
       "\n",
       ".xr-attrs dt,\n",
       ".xr-attrs dd {\n",
       "  padding: 0;\n",
       "  margin: 0;\n",
       "  float: left;\n",
       "  padding-right: 10px;\n",
       "  width: auto;\n",
       "}\n",
       "\n",
       ".xr-attrs dt {\n",
       "  font-weight: normal;\n",
       "  grid-column: 1;\n",
       "}\n",
       "\n",
       ".xr-attrs dt:hover span {\n",
       "  display: inline-block;\n",
       "  background: var(--xr-background-color);\n",
       "  padding-right: 10px;\n",
       "}\n",
       "\n",
       ".xr-attrs dd {\n",
       "  grid-column: 2;\n",
       "  white-space: pre-wrap;\n",
       "  word-break: break-all;\n",
       "}\n",
       "\n",
       ".xr-icon-database,\n",
       ".xr-icon-file-text2 {\n",
       "  display: inline-block;\n",
       "  vertical-align: middle;\n",
       "  width: 1em;\n",
       "  height: 1.5em !important;\n",
       "  stroke-width: 0;\n",
       "  stroke: currentColor;\n",
       "  fill: currentColor;\n",
       "}\n",
       "</style><pre class='xr-text-repr-fallback'>&lt;xarray.Dataset&gt;\n",
       "Dimensions:              (NPARAMETER: 46, N_LEVELS: 557, N_PROF: 181)\n",
       "Dimensions without coordinates: NPARAMETER, N_LEVELS, N_PROF\n",
       "Data variables: (12/66)\n",
       "    Cruise               |S11 b&#x27;    5904397&#x27;\n",
       "    Station              (N_PROF) int32 1 2 3 4 5 6 ... 176 177 178 179 180 181\n",
       "    Lon                  (N_PROF) float64 360.0 359.7 359.4 ... 357.6 357.8\n",
       "    Lat                  (N_PROF) float64 -61.02 -61.01 -61.09 ... -59.46 -59.38\n",
       "    Lat_QF               (N_PROF) |S1 b&#x27;0&#x27; b&#x27;0&#x27; b&#x27;0&#x27; b&#x27;0&#x27; ... b&#x27;0&#x27; b&#x27;0&#x27; b&#x27;0&#x27;\n",
       "    Lat_QFA              (N_PROF) float64 0.0 0.0 0.0 0.0 ... 0.0 0.0 0.0 0.0\n",
       "    ...                   ...\n",
       "    Type                 |S1 b&#x27;C&#x27;\n",
       "    mon_day_yr           (N_PROF) |S10 b&#x27;01/22/2015&#x27; ... b&#x27;02/19/2020&#x27;\n",
       "    hh_mm                (N_PROF) |S5 b&#x27;05:14&#x27; b&#x27;16:13&#x27; ... b&#x27;19:21&#x27; b&#x27;01:33&#x27;\n",
       "    Parameters           (NPARAMETER) |S19 b&#x27;Cruise             &#x27; ... b&#x27;REFER...\n",
       "    JULD                 (N_PROF) datetime64[ns] 2015-01-22T05:14:00.00000358...\n",
       "    REFERENCE_DATE_TIME  object b&#x27;19500101000000&#x27;\n",
       "Attributes:\n",
       "    Comments:  \\n//0\\n//&lt;Encoding&gt;UTF-8&lt;/Encoding&gt;\\n//File updated on 05/01/2...</pre><div class='xr-wrap' hidden><div class='xr-header'><div class='xr-obj-type'>xarray.Dataset</div></div><ul class='xr-sections'><li class='xr-section-item'><input id='section-fa745339-f172-4f61-9e9b-74606b4bb5d6' class='xr-section-summary-in' type='checkbox' disabled ><label for='section-fa745339-f172-4f61-9e9b-74606b4bb5d6' class='xr-section-summary'  title='Expand/collapse section'>Dimensions:</label><div class='xr-section-inline-details'><ul class='xr-dim-list'><li><span>NPARAMETER</span>: 46</li><li><span>N_LEVELS</span>: 557</li><li><span>N_PROF</span>: 181</li></ul></div><div class='xr-section-details'></div></li><li class='xr-section-item'><input id='section-14302266-d020-480c-94b8-bb032a2c8411' class='xr-section-summary-in' type='checkbox' disabled ><label for='section-14302266-d020-480c-94b8-bb032a2c8411' class='xr-section-summary'  title='Expand/collapse section'>Coordinates: <span>(0)</span></label><div class='xr-section-inline-details'></div><div class='xr-section-details'><ul class='xr-var-list'></ul></div></li><li class='xr-section-item'><input id='section-faef6349-d972-4d95-9bd1-1bba6f59458c' class='xr-section-summary-in' type='checkbox'  ><label for='section-faef6349-d972-4d95-9bd1-1bba6f59458c' class='xr-section-summary' >Data variables: <span>(66)</span></label><div class='xr-section-inline-details'></div><div class='xr-section-details'><ul class='xr-var-list'><li class='xr-var-item'><div class='xr-var-name'><span>Cruise</span></div><div class='xr-var-dims'>()</div><div class='xr-var-dtype'>|S11</div><div class='xr-var-preview xr-preview'>...</div><input id='attrs-3561964b-25c4-4afa-9615-20d9704d75cc' class='xr-var-attrs-in' type='checkbox' disabled><label for='attrs-3561964b-25c4-4afa-9615-20d9704d75cc' title='Show/Hide attributes'><svg class='icon xr-icon-file-text2'><use xlink:href='#icon-file-text2'></use></svg></label><input id='data-fecb7c3e-11ce-4ab1-a5fb-7485ca4c6806' class='xr-var-data-in' type='checkbox'><label for='data-fecb7c3e-11ce-4ab1-a5fb-7485ca4c6806' title='Show/Hide data repr'><svg class='icon xr-icon-database'><use xlink:href='#icon-database'></use></svg></label><div class='xr-var-attrs'><dl class='xr-attrs'></dl></div><div class='xr-var-data'><pre>array(b&#x27;    5904397&#x27;, dtype=&#x27;|S11&#x27;)</pre></div></li><li class='xr-var-item'><div class='xr-var-name'><span>Station</span></div><div class='xr-var-dims'>(N_PROF)</div><div class='xr-var-dtype'>int32</div><div class='xr-var-preview xr-preview'>...</div><input id='attrs-6065a78e-a525-47ea-9034-0190627c8d74' class='xr-var-attrs-in' type='checkbox' disabled><label for='attrs-6065a78e-a525-47ea-9034-0190627c8d74' title='Show/Hide attributes'><svg class='icon xr-icon-file-text2'><use xlink:href='#icon-file-text2'></use></svg></label><input id='data-25f98ceb-8beb-4354-a7c4-f3f305f876a3' class='xr-var-data-in' type='checkbox'><label for='data-25f98ceb-8beb-4354-a7c4-f3f305f876a3' title='Show/Hide data repr'><svg class='icon xr-icon-database'><use xlink:href='#icon-database'></use></svg></label><div class='xr-var-attrs'><dl class='xr-attrs'></dl></div><div class='xr-var-data'><pre>array([  1,   2,   3,   4,   5,   6,   7,   8,   9,  10,  11,  12,  13,  14,\n",
       "        15,  16,  17,  18,  19,  20,  21,  22,  23,  24,  25,  26,  27,  28,\n",
       "        29,  30,  31,  32,  33,  34,  35,  36,  37,  38,  39,  40,  41,  42,\n",
       "        43,  44,  45,  46,  47,  48,  49,  50,  51,  52,  53,  54,  55,  56,\n",
       "        57,  58,  59,  60,  61,  62,  63,  64,  65,  66,  67,  68,  69,  70,\n",
       "        71,  72,  73,  74,  75,  76,  77,  78,  79,  80,  81,  82,  83,  84,\n",
       "        85,  86,  87,  88,  89,  90,  91,  92,  93,  94,  95,  96,  97,  98,\n",
       "        99, 100, 101, 102, 103, 104, 105, 106, 107, 108, 109, 110, 111, 112,\n",
       "       113, 114, 115, 116, 117, 118, 119, 120, 121, 122, 123, 124, 125, 126,\n",
       "       127, 128, 129, 130, 131, 132, 133, 134, 135, 136, 137, 138, 139, 140,\n",
       "       141, 142, 143, 144, 145, 146, 147, 148, 149, 150, 151, 152, 153, 154,\n",
       "       155, 156, 157, 158, 159, 160, 161, 162, 163, 164, 165, 166, 167, 168,\n",
       "       169, 170, 171, 172, 173, 174, 175, 176, 177, 178, 179, 180, 181],\n",
       "      dtype=int32)</pre></div></li><li class='xr-var-item'><div class='xr-var-name'><span>Lon</span></div><div class='xr-var-dims'>(N_PROF)</div><div class='xr-var-dtype'>float64</div><div class='xr-var-preview xr-preview'>...</div><input id='attrs-40c178db-d843-4130-a5cc-5b929bf2381a' class='xr-var-attrs-in' type='checkbox' disabled><label for='attrs-40c178db-d843-4130-a5cc-5b929bf2381a' title='Show/Hide attributes'><svg class='icon xr-icon-file-text2'><use xlink:href='#icon-file-text2'></use></svg></label><input id='data-478165a7-471d-4d2b-a307-93811bbf3fbb' class='xr-var-data-in' type='checkbox'><label for='data-478165a7-471d-4d2b-a307-93811bbf3fbb' title='Show/Hide data repr'><svg class='icon xr-icon-database'><use xlink:href='#icon-database'></use></svg></label><div class='xr-var-attrs'><dl class='xr-attrs'></dl></div><div class='xr-var-data'><pre>array([3.59971e+02, 3.59682e+02, 3.59428e+02, 3.59257e+02, 3.59071e+02,\n",
       "       3.58732e+02, 3.58778e+02, 3.58907e+02, 3.59266e+02, 3.59687e+02,\n",
       "       2.11000e-01, 6.32000e-01, 5.69000e-01, 6.17000e-01, 4.41000e-01,\n",
       "       2.69000e-01, 9.60000e-02, 3.59924e+02, 3.59752e+02, 3.59579e+02,\n",
       "       3.59407e+02, 3.59235e+02, 3.59063e+02, 3.58890e+02, 3.58718e+02,\n",
       "       3.58546e+02, 3.58373e+02, 3.58201e+02, 3.58029e+02, 3.57857e+02,\n",
       "       3.57684e+02, 3.57512e+02, 3.57340e+02, 3.57167e+02, 3.57022e+02,\n",
       "       3.56520e+02, 3.55880e+02, 3.55282e+02, 3.54622e+02, 3.54030e+02,\n",
       "       3.53679e+02, 3.53249e+02, 3.52800e+02, 3.52656e+02, 3.52444e+02,\n",
       "       3.52341e+02, 3.52285e+02, 3.52358e+02, 3.52666e+02, 3.53235e+02,\n",
       "       3.53789e+02, 3.54344e+02, 3.54899e+02, 3.55453e+02, 3.56008e+02,\n",
       "       3.56563e+02, 3.57117e+02, 3.57672e+02, 3.58226e+02, 3.58781e+02,\n",
       "       3.59336e+02, 3.59890e+02, 4.45000e-01, 9.99000e-01, 1.55400e+00,\n",
       "       2.10800e+00, 2.66300e+00, 3.21800e+00, 3.77300e+00, 3.66200e+00,\n",
       "       3.51500e+00, 3.42000e+00, 3.44600e+00, 3.37100e+00, 3.33200e+00,\n",
       "       3.15700e+00, 3.06100e+00, 3.71000e+00, 3.35400e+00, 3.58300e+00,\n",
       "       3.68100e+00, 3.79800e+00, 3.84000e+00, 3.90900e+00, 4.20300e+00,\n",
       "       4.34800e+00, 3.93000e+00, 3.51300e+00, 3.09700e+00, 2.68000e+00,\n",
       "       2.26400e+00, 1.84800e+00, 1.43100e+00, 1.01500e+00, 5.98000e-01,\n",
       "       1.82000e-01, 3.59765e+02, 3.59349e+02, 3.58932e+02, 3.58516e+02,\n",
       "       3.58100e+02, 3.57683e+02, 3.57266e+02, 3.56849e+02, 3.55752e+02,\n",
       "       3.54669e+02, 3.54046e+02, 3.53451e+02, 3.53578e+02, 3.53134e+02,\n",
       "       3.52292e+02, 3.52546e+02, 3.52295e+02, 3.52432e+02, 3.51759e+02,\n",
       "       3.51530e+02, 3.51705e+02, 3.51754e+02, 3.51878e+02, 3.52116e+02,\n",
       "       3.52232e+02, 3.52276e+02, 3.52217e+02, 3.52158e+02, 3.52100e+02,\n",
       "       3.52041e+02, 3.51982e+02, 3.51924e+02, 3.51865e+02, 3.51806e+02,\n",
       "       3.51748e+02, 3.51689e+02, 3.51630e+02, 3.51572e+02, 3.51513e+02,\n",
       "       3.51454e+02, 3.51396e+02, 3.51337e+02, 3.51278e+02, 3.51220e+02,\n",
       "       3.51161e+02, 3.51056e+02, 3.50959e+02, 3.50938e+02, 3.51047e+02,\n",
       "       3.51227e+02, 3.51436e+02, 3.51939e+02, 3.52529e+02, 3.52724e+02,\n",
       "       3.52947e+02, 3.53313e+02, 3.53534e+02, 3.53761e+02, 3.53880e+02,\n",
       "       3.54077e+02, 3.54325e+02, 3.54634e+02, 3.54869e+02, 3.54953e+02,\n",
       "       3.55037e+02, 3.55121e+02, 3.55205e+02, 3.55289e+02, 3.55373e+02,\n",
       "       3.55457e+02, 3.55540e+02, 3.55624e+02, 3.55708e+02, 3.55792e+02,\n",
       "       3.55876e+02, 3.55960e+02, 3.56044e+02, 3.56128e+02, 3.56276e+02,\n",
       "       3.56572e+02, 3.56925e+02, 3.57223e+02, 3.57412e+02, 3.57553e+02,\n",
       "       3.57760e+02])</pre></div></li><li class='xr-var-item'><div class='xr-var-name'><span>Lat</span></div><div class='xr-var-dims'>(N_PROF)</div><div class='xr-var-dtype'>float64</div><div class='xr-var-preview xr-preview'>...</div><input id='attrs-21216b38-2f00-49e5-9a8f-2027110f4ef7' class='xr-var-attrs-in' type='checkbox' disabled><label for='attrs-21216b38-2f00-49e5-9a8f-2027110f4ef7' title='Show/Hide attributes'><svg class='icon xr-icon-file-text2'><use xlink:href='#icon-file-text2'></use></svg></label><input id='data-c4fa9f56-8bd4-4785-b793-1ea2873d0605' class='xr-var-data-in' type='checkbox'><label for='data-c4fa9f56-8bd4-4785-b793-1ea2873d0605' title='Show/Hide data repr'><svg class='icon xr-icon-database'><use xlink:href='#icon-database'></use></svg></label><div class='xr-var-attrs'><dl class='xr-attrs'></dl></div><div class='xr-var-data'><pre>array([-61.022, -61.014, -61.091, -61.116, -61.118, -60.972, -60.732, -60.461,\n",
       "       -60.348, -60.304, -60.27 , -60.436, -60.707, -60.842, -60.931, -61.018,\n",
       "       -61.105, -61.192, -61.279, -61.366, -61.452, -61.539, -61.626, -61.713,\n",
       "       -61.8  , -61.887, -61.974, -62.061, -62.148, -62.235, -62.322, -62.409,\n",
       "       -62.496, -62.583, -62.419, -62.156, -61.754, -61.357, -61.163, -60.961,\n",
       "       -60.828, -60.719, -60.553, -60.355, -60.278, -60.23 , -60.206, -60.173,\n",
       "       -60.099, -60.119, -60.139, -60.158, -60.177, -60.197, -60.216, -60.236,\n",
       "       -60.255, -60.274, -60.294, -60.313, -60.332, -60.352, -60.371, -60.391,\n",
       "       -60.41 , -60.429, -60.449, -60.468, -60.487, -60.531, -60.522, -60.474,\n",
       "       -60.474, -60.543, -60.555, -60.597, -60.355, -60.388, -60.46 , -60.423,\n",
       "       -60.532, -60.534, -60.581, -60.706, -60.868, -61.099, -61.16 , -61.22 ,\n",
       "       -61.281, -61.341, -61.401, -61.462, -61.522, -61.583, -61.643, -61.704,\n",
       "       -61.764, -61.824, -61.885, -61.945, -62.006, -62.066, -62.127, -62.187,\n",
       "       -62.171, -62.239, -62.103, -62.136, -61.979, -62.173, -61.847, -61.95 ,\n",
       "       -61.719, -61.905, -62.01 , -61.741, -61.503, -61.396, -61.41 , -61.548,\n",
       "       -61.564, -61.475, -61.407, -61.34 , -61.273, -61.206, -61.139, -61.071,\n",
       "       -61.004, -60.937, -60.87 , -60.803, -60.736, -60.668, -60.601, -60.534,\n",
       "       -60.467, -60.4  , -60.332, -60.265, -60.198, -60.138, -60.034, -59.935,\n",
       "       -59.815, -59.749, -59.636, -59.447, -59.346, -59.184, -59.164, -59.239,\n",
       "       -59.284, -59.313, -59.332, -59.323, -59.303, -59.325, -59.398, -59.403,\n",
       "       -59.407, -59.412, -59.417, -59.422, -59.426, -59.431, -59.436, -59.441,\n",
       "       -59.445, -59.45 , -59.455, -59.46 , -59.464, -59.469, -59.533, -59.58 ,\n",
       "       -59.611, -59.558, -59.515, -59.46 , -59.381])</pre></div></li><li class='xr-var-item'><div class='xr-var-name'><span>Lat_QF</span></div><div class='xr-var-dims'>(N_PROF)</div><div class='xr-var-dtype'>|S1</div><div class='xr-var-preview xr-preview'>...</div><input id='attrs-2517643e-471e-48fb-9a44-eee26f3d1c46' class='xr-var-attrs-in' type='checkbox' disabled><label for='attrs-2517643e-471e-48fb-9a44-eee26f3d1c46' title='Show/Hide attributes'><svg class='icon xr-icon-file-text2'><use xlink:href='#icon-file-text2'></use></svg></label><input id='data-bb208de7-29cd-44cb-a6a5-8eeeb5258ad6' class='xr-var-data-in' type='checkbox'><label for='data-bb208de7-29cd-44cb-a6a5-8eeeb5258ad6' title='Show/Hide data repr'><svg class='icon xr-icon-database'><use xlink:href='#icon-database'></use></svg></label><div class='xr-var-attrs'><dl class='xr-attrs'></dl></div><div class='xr-var-data'><pre>array([b&#x27;0&#x27;, b&#x27;0&#x27;, b&#x27;0&#x27;, b&#x27;0&#x27;, b&#x27;0&#x27;, b&#x27;0&#x27;, b&#x27;0&#x27;, b&#x27;0&#x27;, b&#x27;0&#x27;, b&#x27;0&#x27;, b&#x27;0&#x27;, b&#x27;0&#x27;,\n",
       "       b&#x27;0&#x27;, b&#x27;0&#x27;, b&#x27;4&#x27;, b&#x27;4&#x27;, b&#x27;4&#x27;, b&#x27;4&#x27;, b&#x27;4&#x27;, b&#x27;4&#x27;, b&#x27;4&#x27;, b&#x27;4&#x27;, b&#x27;4&#x27;, b&#x27;4&#x27;,\n",
       "       b&#x27;4&#x27;, b&#x27;4&#x27;, b&#x27;4&#x27;, b&#x27;4&#x27;, b&#x27;4&#x27;, b&#x27;4&#x27;, b&#x27;4&#x27;, b&#x27;4&#x27;, b&#x27;4&#x27;, b&#x27;0&#x27;, b&#x27;0&#x27;, b&#x27;0&#x27;,\n",
       "       b&#x27;0&#x27;, b&#x27;0&#x27;, b&#x27;0&#x27;, b&#x27;0&#x27;, b&#x27;0&#x27;, b&#x27;0&#x27;, b&#x27;0&#x27;, b&#x27;0&#x27;, b&#x27;0&#x27;, b&#x27;0&#x27;, b&#x27;0&#x27;, b&#x27;0&#x27;,\n",
       "       b&#x27;0&#x27;, b&#x27;4&#x27;, b&#x27;4&#x27;, b&#x27;4&#x27;, b&#x27;4&#x27;, b&#x27;4&#x27;, b&#x27;4&#x27;, b&#x27;4&#x27;, b&#x27;4&#x27;, b&#x27;4&#x27;, b&#x27;4&#x27;, b&#x27;4&#x27;,\n",
       "       b&#x27;4&#x27;, b&#x27;4&#x27;, b&#x27;4&#x27;, b&#x27;4&#x27;, b&#x27;4&#x27;, b&#x27;4&#x27;, b&#x27;4&#x27;, b&#x27;4&#x27;, b&#x27;0&#x27;, b&#x27;0&#x27;, b&#x27;0&#x27;, b&#x27;0&#x27;,\n",
       "       b&#x27;0&#x27;, b&#x27;0&#x27;, b&#x27;0&#x27;, b&#x27;0&#x27;, b&#x27;0&#x27;, b&#x27;0&#x27;, b&#x27;0&#x27;, b&#x27;0&#x27;, b&#x27;0&#x27;, b&#x27;0&#x27;, b&#x27;0&#x27;, b&#x27;0&#x27;,\n",
       "       b&#x27;0&#x27;, b&#x27;0&#x27;, b&#x27;4&#x27;, b&#x27;4&#x27;, b&#x27;4&#x27;, b&#x27;4&#x27;, b&#x27;4&#x27;, b&#x27;4&#x27;, b&#x27;4&#x27;, b&#x27;4&#x27;, b&#x27;4&#x27;, b&#x27;4&#x27;,\n",
       "       b&#x27;4&#x27;, b&#x27;4&#x27;, b&#x27;4&#x27;, b&#x27;4&#x27;, b&#x27;4&#x27;, b&#x27;4&#x27;, b&#x27;4&#x27;, b&#x27;0&#x27;, b&#x27;0&#x27;, b&#x27;0&#x27;, b&#x27;0&#x27;, b&#x27;0&#x27;,\n",
       "       b&#x27;0&#x27;, b&#x27;0&#x27;, b&#x27;0&#x27;, b&#x27;0&#x27;, b&#x27;0&#x27;, b&#x27;0&#x27;, b&#x27;0&#x27;, b&#x27;0&#x27;, b&#x27;0&#x27;, b&#x27;0&#x27;, b&#x27;0&#x27;, b&#x27;0&#x27;,\n",
       "       b&#x27;0&#x27;, b&#x27;0&#x27;, b&#x27;4&#x27;, b&#x27;4&#x27;, b&#x27;4&#x27;, b&#x27;4&#x27;, b&#x27;4&#x27;, b&#x27;4&#x27;, b&#x27;4&#x27;, b&#x27;4&#x27;, b&#x27;4&#x27;, b&#x27;4&#x27;,\n",
       "       b&#x27;4&#x27;, b&#x27;4&#x27;, b&#x27;4&#x27;, b&#x27;4&#x27;, b&#x27;4&#x27;, b&#x27;4&#x27;, b&#x27;4&#x27;, b&#x27;4&#x27;, b&#x27;0&#x27;, b&#x27;0&#x27;, b&#x27;0&#x27;, b&#x27;0&#x27;,\n",
       "       b&#x27;0&#x27;, b&#x27;0&#x27;, b&#x27;0&#x27;, b&#x27;0&#x27;, b&#x27;0&#x27;, b&#x27;0&#x27;, b&#x27;0&#x27;, b&#x27;0&#x27;, b&#x27;0&#x27;, b&#x27;0&#x27;, b&#x27;0&#x27;, b&#x27;0&#x27;,\n",
       "       b&#x27;0&#x27;, b&#x27;0&#x27;, b&#x27;0&#x27;, b&#x27;4&#x27;, b&#x27;4&#x27;, b&#x27;4&#x27;, b&#x27;4&#x27;, b&#x27;4&#x27;, b&#x27;4&#x27;, b&#x27;4&#x27;, b&#x27;4&#x27;, b&#x27;4&#x27;,\n",
       "       b&#x27;4&#x27;, b&#x27;4&#x27;, b&#x27;4&#x27;, b&#x27;4&#x27;, b&#x27;4&#x27;, b&#x27;0&#x27;, b&#x27;0&#x27;, b&#x27;0&#x27;, b&#x27;0&#x27;, b&#x27;0&#x27;, b&#x27;0&#x27;, b&#x27;0&#x27;,\n",
       "       b&#x27;0&#x27;], dtype=&#x27;|S1&#x27;)</pre></div></li><li class='xr-var-item'><div class='xr-var-name'><span>Lat_QFA</span></div><div class='xr-var-dims'>(N_PROF)</div><div class='xr-var-dtype'>float64</div><div class='xr-var-preview xr-preview'>...</div><input id='attrs-fc319209-71f8-4fe7-8c1f-bd37845ee664' class='xr-var-attrs-in' type='checkbox' ><label for='attrs-fc319209-71f8-4fe7-8c1f-bd37845ee664' title='Show/Hide attributes'><svg class='icon xr-icon-file-text2'><use xlink:href='#icon-file-text2'></use></svg></label><input id='data-ba044e08-8471-4bb3-81aa-efce405df0ba' class='xr-var-data-in' type='checkbox'><label for='data-ba044e08-8471-4bb3-81aa-efce405df0ba' title='Show/Hide data repr'><svg class='icon xr-icon-database'><use xlink:href='#icon-database'></use></svg></label><div class='xr-var-attrs'><dl class='xr-attrs'><dt><span>NOTES :</span></dt><dd>Variables ending in _QFA are an alternate format (double matrix instead of character array)  for the variable ending in _QF</dd></dl></div><div class='xr-var-data'><pre>array([0., 0., 0., 0., 0., 0., 0., 0., 0., 0., 0., 0., 0., 0., 4., 4., 4., 4.,\n",
       "       4., 4., 4., 4., 4., 4., 4., 4., 4., 4., 4., 4., 4., 4., 4., 0., 0., 0.,\n",
       "       0., 0., 0., 0., 0., 0., 0., 0., 0., 0., 0., 0., 0., 4., 4., 4., 4., 4.,\n",
       "       4., 4., 4., 4., 4., 4., 4., 4., 4., 4., 4., 4., 4., 4., 0., 0., 0., 0.,\n",
       "       0., 0., 0., 0., 0., 0., 0., 0., 0., 0., 0., 0., 0., 0., 4., 4., 4., 4.,\n",
       "       4., 4., 4., 4., 4., 4., 4., 4., 4., 4., 4., 4., 4., 0., 0., 0., 0., 0.,\n",
       "       0., 0., 0., 0., 0., 0., 0., 0., 0., 0., 0., 0., 0., 0., 4., 4., 4., 4.,\n",
       "       4., 4., 4., 4., 4., 4., 4., 4., 4., 4., 4., 4., 4., 4., 0., 0., 0., 0.,\n",
       "       0., 0., 0., 0., 0., 0., 0., 0., 0., 0., 0., 0., 0., 0., 0., 4., 4., 4.,\n",
       "       4., 4., 4., 4., 4., 4., 4., 4., 4., 4., 4., 0., 0., 0., 0., 0., 0., 0.,\n",
       "       0.])</pre></div></li><li class='xr-var-item'><div class='xr-var-name'><span>Pressure</span></div><div class='xr-var-dims'>(N_PROF, N_LEVELS)</div><div class='xr-var-dtype'>float64</div><div class='xr-var-preview xr-preview'>...</div><input id='attrs-8d051629-181a-4a93-93a0-d57186323c2f' class='xr-var-attrs-in' type='checkbox' ><label for='attrs-8d051629-181a-4a93-93a0-d57186323c2f' title='Show/Hide attributes'><svg class='icon xr-icon-file-text2'><use xlink:href='#icon-file-text2'></use></svg></label><input id='data-c6457199-5e5a-4837-ab68-4bde0dd05284' class='xr-var-data-in' type='checkbox'><label for='data-c6457199-5e5a-4837-ab68-4bde0dd05284' title='Show/Hide data repr'><svg class='icon xr-icon-database'><use xlink:href='#icon-database'></use></svg></label><div class='xr-var-attrs'><dl class='xr-attrs'><dt><span>units :</span></dt><dd>dbar</dd></dl></div><div class='xr-var-data'><pre>[100817 values with dtype=float64]</pre></div></li><li class='xr-var-item'><div class='xr-var-name'><span>Pressure_QF</span></div><div class='xr-var-dims'>(N_PROF, N_LEVELS)</div><div class='xr-var-dtype'>|S1</div><div class='xr-var-preview xr-preview'>...</div><input id='attrs-bb038c6a-d330-44c8-8123-a5b12eb43d58' class='xr-var-attrs-in' type='checkbox' disabled><label for='attrs-bb038c6a-d330-44c8-8123-a5b12eb43d58' title='Show/Hide attributes'><svg class='icon xr-icon-file-text2'><use xlink:href='#icon-file-text2'></use></svg></label><input id='data-182086f3-1da8-4f6d-be0c-3a1f7f14e405' class='xr-var-data-in' type='checkbox'><label for='data-182086f3-1da8-4f6d-be0c-3a1f7f14e405' title='Show/Hide data repr'><svg class='icon xr-icon-database'><use xlink:href='#icon-database'></use></svg></label><div class='xr-var-attrs'><dl class='xr-attrs'></dl></div><div class='xr-var-data'><pre>[100817 values with dtype=|S1]</pre></div></li><li class='xr-var-item'><div class='xr-var-name'><span>Pressure_QFA</span></div><div class='xr-var-dims'>(N_PROF, N_LEVELS)</div><div class='xr-var-dtype'>float64</div><div class='xr-var-preview xr-preview'>...</div><input id='attrs-92ec351c-27cd-446a-820d-e01fe2b95390' class='xr-var-attrs-in' type='checkbox' ><label for='attrs-92ec351c-27cd-446a-820d-e01fe2b95390' title='Show/Hide attributes'><svg class='icon xr-icon-file-text2'><use xlink:href='#icon-file-text2'></use></svg></label><input id='data-16983b36-fe05-48a3-8b16-747512bfc17f' class='xr-var-data-in' type='checkbox'><label for='data-16983b36-fe05-48a3-8b16-747512bfc17f' title='Show/Hide data repr'><svg class='icon xr-icon-database'><use xlink:href='#icon-database'></use></svg></label><div class='xr-var-attrs'><dl class='xr-attrs'><dt><span>NOTES :</span></dt><dd>Variables ending in _QFA are an alternate format (double matrix instead of character array)  for the variable ending in _QF</dd></dl></div><div class='xr-var-data'><pre>[100817 values with dtype=float64]</pre></div></li><li class='xr-var-item'><div class='xr-var-name'><span>Temperature</span></div><div class='xr-var-dims'>(N_PROF, N_LEVELS)</div><div class='xr-var-dtype'>float64</div><div class='xr-var-preview xr-preview'>...</div><input id='attrs-9c0b76d3-e579-4b31-b5b3-237e2426fae3' class='xr-var-attrs-in' type='checkbox' ><label for='attrs-9c0b76d3-e579-4b31-b5b3-237e2426fae3' title='Show/Hide attributes'><svg class='icon xr-icon-file-text2'><use xlink:href='#icon-file-text2'></use></svg></label><input id='data-2e15b8df-d887-4897-aa5d-8f155e14a84d' class='xr-var-data-in' type='checkbox'><label for='data-2e15b8df-d887-4897-aa5d-8f155e14a84d' title='Show/Hide data repr'><svg class='icon xr-icon-database'><use xlink:href='#icon-database'></use></svg></label><div class='xr-var-attrs'><dl class='xr-attrs'><dt><span>units :</span></dt><dd>degree_C</dd></dl></div><div class='xr-var-data'><pre>[100817 values with dtype=float64]</pre></div></li><li class='xr-var-item'><div class='xr-var-name'><span>Temperature_QF</span></div><div class='xr-var-dims'>(N_PROF, N_LEVELS)</div><div class='xr-var-dtype'>|S1</div><div class='xr-var-preview xr-preview'>...</div><input id='attrs-190a0c96-e885-4f51-acaa-5df15ae4bee8' class='xr-var-attrs-in' type='checkbox' disabled><label for='attrs-190a0c96-e885-4f51-acaa-5df15ae4bee8' title='Show/Hide attributes'><svg class='icon xr-icon-file-text2'><use xlink:href='#icon-file-text2'></use></svg></label><input id='data-6037f1dd-2f20-4634-9031-197eb902269b' class='xr-var-data-in' type='checkbox'><label for='data-6037f1dd-2f20-4634-9031-197eb902269b' title='Show/Hide data repr'><svg class='icon xr-icon-database'><use xlink:href='#icon-database'></use></svg></label><div class='xr-var-attrs'><dl class='xr-attrs'></dl></div><div class='xr-var-data'><pre>[100817 values with dtype=|S1]</pre></div></li><li class='xr-var-item'><div class='xr-var-name'><span>Temperature_QFA</span></div><div class='xr-var-dims'>(N_PROF, N_LEVELS)</div><div class='xr-var-dtype'>float64</div><div class='xr-var-preview xr-preview'>...</div><input id='attrs-6178532c-0807-4af1-a055-fcd7b573a19b' class='xr-var-attrs-in' type='checkbox' ><label for='attrs-6178532c-0807-4af1-a055-fcd7b573a19b' title='Show/Hide attributes'><svg class='icon xr-icon-file-text2'><use xlink:href='#icon-file-text2'></use></svg></label><input id='data-4b86c431-2f43-4ddd-a082-963bb2836ad3' class='xr-var-data-in' type='checkbox'><label for='data-4b86c431-2f43-4ddd-a082-963bb2836ad3' title='Show/Hide data repr'><svg class='icon xr-icon-database'><use xlink:href='#icon-database'></use></svg></label><div class='xr-var-attrs'><dl class='xr-attrs'><dt><span>NOTES :</span></dt><dd>Variables ending in _QFA are an alternate format (double matrix instead of character array)  for the variable ending in _QF</dd></dl></div><div class='xr-var-data'><pre>[100817 values with dtype=float64]</pre></div></li><li class='xr-var-item'><div class='xr-var-name'><span>Salinity</span></div><div class='xr-var-dims'>(N_PROF, N_LEVELS)</div><div class='xr-var-dtype'>float64</div><div class='xr-var-preview xr-preview'>...</div><input id='attrs-029b028c-c988-4df1-a20e-139f06205191' class='xr-var-attrs-in' type='checkbox' ><label for='attrs-029b028c-c988-4df1-a20e-139f06205191' title='Show/Hide attributes'><svg class='icon xr-icon-file-text2'><use xlink:href='#icon-file-text2'></use></svg></label><input id='data-5365a031-2b15-449c-896f-6e4f99f8a47d' class='xr-var-data-in' type='checkbox'><label for='data-5365a031-2b15-449c-896f-6e4f99f8a47d' title='Show/Hide data repr'><svg class='icon xr-icon-database'><use xlink:href='#icon-database'></use></svg></label><div class='xr-var-attrs'><dl class='xr-attrs'><dt><span>units :</span></dt><dd>pss</dd></dl></div><div class='xr-var-data'><pre>[100817 values with dtype=float64]</pre></div></li><li class='xr-var-item'><div class='xr-var-name'><span>Salinity_QF</span></div><div class='xr-var-dims'>(N_PROF, N_LEVELS)</div><div class='xr-var-dtype'>|S1</div><div class='xr-var-preview xr-preview'>...</div><input id='attrs-bc524655-fb42-4777-975d-6599e8d62e2d' class='xr-var-attrs-in' type='checkbox' disabled><label for='attrs-bc524655-fb42-4777-975d-6599e8d62e2d' title='Show/Hide attributes'><svg class='icon xr-icon-file-text2'><use xlink:href='#icon-file-text2'></use></svg></label><input id='data-ea3e531d-4da1-4fe8-8fb6-4ff6d3e71ba0' class='xr-var-data-in' type='checkbox'><label for='data-ea3e531d-4da1-4fe8-8fb6-4ff6d3e71ba0' title='Show/Hide data repr'><svg class='icon xr-icon-database'><use xlink:href='#icon-database'></use></svg></label><div class='xr-var-attrs'><dl class='xr-attrs'></dl></div><div class='xr-var-data'><pre>[100817 values with dtype=|S1]</pre></div></li><li class='xr-var-item'><div class='xr-var-name'><span>Salinity_QFA</span></div><div class='xr-var-dims'>(N_PROF, N_LEVELS)</div><div class='xr-var-dtype'>float64</div><div class='xr-var-preview xr-preview'>...</div><input id='attrs-831c1e52-2950-44f8-90a4-ba3252aa7205' class='xr-var-attrs-in' type='checkbox' ><label for='attrs-831c1e52-2950-44f8-90a4-ba3252aa7205' title='Show/Hide attributes'><svg class='icon xr-icon-file-text2'><use xlink:href='#icon-file-text2'></use></svg></label><input id='data-7ec53a1b-bf56-438c-9c53-68bd6aac0008' class='xr-var-data-in' type='checkbox'><label for='data-7ec53a1b-bf56-438c-9c53-68bd6aac0008' title='Show/Hide data repr'><svg class='icon xr-icon-database'><use xlink:href='#icon-database'></use></svg></label><div class='xr-var-attrs'><dl class='xr-attrs'><dt><span>NOTES :</span></dt><dd>Variables ending in _QFA are an alternate format (double matrix instead of character array)  for the variable ending in _QF</dd></dl></div><div class='xr-var-data'><pre>[100817 values with dtype=float64]</pre></div></li><li class='xr-var-item'><div class='xr-var-name'><span>Sigma_theta</span></div><div class='xr-var-dims'>(N_PROF, N_LEVELS)</div><div class='xr-var-dtype'>float64</div><div class='xr-var-preview xr-preview'>...</div><input id='attrs-9ae2d505-41bc-4918-833a-08f606a0bd5e' class='xr-var-attrs-in' type='checkbox' ><label for='attrs-9ae2d505-41bc-4918-833a-08f606a0bd5e' title='Show/Hide attributes'><svg class='icon xr-icon-file-text2'><use xlink:href='#icon-file-text2'></use></svg></label><input id='data-23c23785-c9e2-447d-9055-092469bb6cba' class='xr-var-data-in' type='checkbox'><label for='data-23c23785-c9e2-447d-9055-092469bb6cba' title='Show/Hide data repr'><svg class='icon xr-icon-database'><use xlink:href='#icon-database'></use></svg></label><div class='xr-var-attrs'><dl class='xr-attrs'><dt><span>units :</span></dt><dd>kg/m^3</dd></dl></div><div class='xr-var-data'><pre>[100817 values with dtype=float64]</pre></div></li><li class='xr-var-item'><div class='xr-var-name'><span>Sigma_theta_QF</span></div><div class='xr-var-dims'>(N_PROF, N_LEVELS)</div><div class='xr-var-dtype'>|S1</div><div class='xr-var-preview xr-preview'>...</div><input id='attrs-e4c62fe3-d73c-4672-8277-e047c5d4a13e' class='xr-var-attrs-in' type='checkbox' disabled><label for='attrs-e4c62fe3-d73c-4672-8277-e047c5d4a13e' title='Show/Hide attributes'><svg class='icon xr-icon-file-text2'><use xlink:href='#icon-file-text2'></use></svg></label><input id='data-91f6fa58-bcdf-41e9-89ab-f7cf5de925ab' class='xr-var-data-in' type='checkbox'><label for='data-91f6fa58-bcdf-41e9-89ab-f7cf5de925ab' title='Show/Hide data repr'><svg class='icon xr-icon-database'><use xlink:href='#icon-database'></use></svg></label><div class='xr-var-attrs'><dl class='xr-attrs'></dl></div><div class='xr-var-data'><pre>[100817 values with dtype=|S1]</pre></div></li><li class='xr-var-item'><div class='xr-var-name'><span>Sigma_theta_QFA</span></div><div class='xr-var-dims'>(N_PROF, N_LEVELS)</div><div class='xr-var-dtype'>float64</div><div class='xr-var-preview xr-preview'>...</div><input id='attrs-7025a3b7-503f-4974-b25c-7c944db5cde2' class='xr-var-attrs-in' type='checkbox' ><label for='attrs-7025a3b7-503f-4974-b25c-7c944db5cde2' title='Show/Hide attributes'><svg class='icon xr-icon-file-text2'><use xlink:href='#icon-file-text2'></use></svg></label><input id='data-16ef04ec-e6c3-41f0-904f-08db9c6b2b92' class='xr-var-data-in' type='checkbox'><label for='data-16ef04ec-e6c3-41f0-904f-08db9c6b2b92' title='Show/Hide data repr'><svg class='icon xr-icon-database'><use xlink:href='#icon-database'></use></svg></label><div class='xr-var-attrs'><dl class='xr-attrs'><dt><span>NOTES :</span></dt><dd>Variables ending in _QFA are an alternate format (double matrix instead of character array)  for the variable ending in _QF</dd></dl></div><div class='xr-var-data'><pre>[100817 values with dtype=float64]</pre></div></li><li class='xr-var-item'><div class='xr-var-name'><span>Depth</span></div><div class='xr-var-dims'>(N_PROF, N_LEVELS)</div><div class='xr-var-dtype'>float64</div><div class='xr-var-preview xr-preview'>...</div><input id='attrs-9e975a0f-e615-400d-a54e-305d40e95b90' class='xr-var-attrs-in' type='checkbox' ><label for='attrs-9e975a0f-e615-400d-a54e-305d40e95b90' title='Show/Hide attributes'><svg class='icon xr-icon-file-text2'><use xlink:href='#icon-file-text2'></use></svg></label><input id='data-798bedfa-8fdb-4471-a643-ceef44192646' class='xr-var-data-in' type='checkbox'><label for='data-798bedfa-8fdb-4471-a643-ceef44192646' title='Show/Hide data repr'><svg class='icon xr-icon-database'><use xlink:href='#icon-database'></use></svg></label><div class='xr-var-attrs'><dl class='xr-attrs'><dt><span>units :</span></dt><dd>m</dd></dl></div><div class='xr-var-data'><pre>[100817 values with dtype=float64]</pre></div></li><li class='xr-var-item'><div class='xr-var-name'><span>Depth_QF</span></div><div class='xr-var-dims'>(N_PROF, N_LEVELS)</div><div class='xr-var-dtype'>|S1</div><div class='xr-var-preview xr-preview'>...</div><input id='attrs-e0afb94d-a6da-40d5-8abb-4c352de22a06' class='xr-var-attrs-in' type='checkbox' disabled><label for='attrs-e0afb94d-a6da-40d5-8abb-4c352de22a06' title='Show/Hide attributes'><svg class='icon xr-icon-file-text2'><use xlink:href='#icon-file-text2'></use></svg></label><input id='data-6824aa6b-7f00-4346-81e1-07b9dbd8b027' class='xr-var-data-in' type='checkbox'><label for='data-6824aa6b-7f00-4346-81e1-07b9dbd8b027' title='Show/Hide data repr'><svg class='icon xr-icon-database'><use xlink:href='#icon-database'></use></svg></label><div class='xr-var-attrs'><dl class='xr-attrs'></dl></div><div class='xr-var-data'><pre>[100817 values with dtype=|S1]</pre></div></li><li class='xr-var-item'><div class='xr-var-name'><span>Depth_QFA</span></div><div class='xr-var-dims'>(N_PROF, N_LEVELS)</div><div class='xr-var-dtype'>float64</div><div class='xr-var-preview xr-preview'>...</div><input id='attrs-d9f60862-978b-4a7e-86c7-be2abd975ad5' class='xr-var-attrs-in' type='checkbox' ><label for='attrs-d9f60862-978b-4a7e-86c7-be2abd975ad5' title='Show/Hide attributes'><svg class='icon xr-icon-file-text2'><use xlink:href='#icon-file-text2'></use></svg></label><input id='data-970987dc-45ab-4aab-a74b-d67b98d6a5e9' class='xr-var-data-in' type='checkbox'><label for='data-970987dc-45ab-4aab-a74b-d67b98d6a5e9' title='Show/Hide data repr'><svg class='icon xr-icon-database'><use xlink:href='#icon-database'></use></svg></label><div class='xr-var-attrs'><dl class='xr-attrs'><dt><span>NOTES :</span></dt><dd>Variables ending in _QFA are an alternate format (double matrix instead of character array)  for the variable ending in _QF</dd></dl></div><div class='xr-var-data'><pre>[100817 values with dtype=float64]</pre></div></li><li class='xr-var-item'><div class='xr-var-name'><span>Oxygen</span></div><div class='xr-var-dims'>(N_PROF, N_LEVELS)</div><div class='xr-var-dtype'>float64</div><div class='xr-var-preview xr-preview'>...</div><input id='attrs-1b9a9e57-854d-4e2f-b5f1-53f8a0f47cd6' class='xr-var-attrs-in' type='checkbox' ><label for='attrs-1b9a9e57-854d-4e2f-b5f1-53f8a0f47cd6' title='Show/Hide attributes'><svg class='icon xr-icon-file-text2'><use xlink:href='#icon-file-text2'></use></svg></label><input id='data-b7e2d816-f2b8-4554-bc6e-4218d2017cd0' class='xr-var-data-in' type='checkbox'><label for='data-b7e2d816-f2b8-4554-bc6e-4218d2017cd0' title='Show/Hide data repr'><svg class='icon xr-icon-database'><use xlink:href='#icon-database'></use></svg></label><div class='xr-var-attrs'><dl class='xr-attrs'><dt><span>units :</span></dt><dd>umol/kg</dd></dl></div><div class='xr-var-data'><pre>[100817 values with dtype=float64]</pre></div></li><li class='xr-var-item'><div class='xr-var-name'><span>Oxygen_QF</span></div><div class='xr-var-dims'>(N_PROF, N_LEVELS)</div><div class='xr-var-dtype'>|S1</div><div class='xr-var-preview xr-preview'>...</div><input id='attrs-2c870b88-cc96-4bd9-9667-d9785c0cdeda' class='xr-var-attrs-in' type='checkbox' disabled><label for='attrs-2c870b88-cc96-4bd9-9667-d9785c0cdeda' title='Show/Hide attributes'><svg class='icon xr-icon-file-text2'><use xlink:href='#icon-file-text2'></use></svg></label><input id='data-19792157-4252-4d65-a450-8f93c55e04ce' class='xr-var-data-in' type='checkbox'><label for='data-19792157-4252-4d65-a450-8f93c55e04ce' title='Show/Hide data repr'><svg class='icon xr-icon-database'><use xlink:href='#icon-database'></use></svg></label><div class='xr-var-attrs'><dl class='xr-attrs'></dl></div><div class='xr-var-data'><pre>[100817 values with dtype=|S1]</pre></div></li><li class='xr-var-item'><div class='xr-var-name'><span>Oxygen_QFA</span></div><div class='xr-var-dims'>(N_PROF, N_LEVELS)</div><div class='xr-var-dtype'>float64</div><div class='xr-var-preview xr-preview'>...</div><input id='attrs-94c98012-2edc-4cde-8e9d-329c6f395b4e' class='xr-var-attrs-in' type='checkbox' ><label for='attrs-94c98012-2edc-4cde-8e9d-329c6f395b4e' title='Show/Hide attributes'><svg class='icon xr-icon-file-text2'><use xlink:href='#icon-file-text2'></use></svg></label><input id='data-2c53fcd3-184b-4aae-a4a3-d7dea657a4ea' class='xr-var-data-in' type='checkbox'><label for='data-2c53fcd3-184b-4aae-a4a3-d7dea657a4ea' title='Show/Hide data repr'><svg class='icon xr-icon-database'><use xlink:href='#icon-database'></use></svg></label><div class='xr-var-attrs'><dl class='xr-attrs'><dt><span>NOTES :</span></dt><dd>Variables ending in _QFA are an alternate format (double matrix instead of character array)  for the variable ending in _QF</dd></dl></div><div class='xr-var-data'><pre>[100817 values with dtype=float64]</pre></div></li><li class='xr-var-item'><div class='xr-var-name'><span>OxygenSat</span></div><div class='xr-var-dims'>(N_PROF, N_LEVELS)</div><div class='xr-var-dtype'>float64</div><div class='xr-var-preview xr-preview'>...</div><input id='attrs-0a51961f-a4d9-4b94-b35a-74c609dc975c' class='xr-var-attrs-in' type='checkbox' ><label for='attrs-0a51961f-a4d9-4b94-b35a-74c609dc975c' title='Show/Hide attributes'><svg class='icon xr-icon-file-text2'><use xlink:href='#icon-file-text2'></use></svg></label><input id='data-f501e193-44c8-415a-8150-5759536b3c75' class='xr-var-data-in' type='checkbox'><label for='data-f501e193-44c8-415a-8150-5759536b3c75' title='Show/Hide data repr'><svg class='icon xr-icon-database'><use xlink:href='#icon-database'></use></svg></label><div class='xr-var-attrs'><dl class='xr-attrs'><dt><span>units :</span></dt><dd>%</dd></dl></div><div class='xr-var-data'><pre>[100817 values with dtype=float64]</pre></div></li><li class='xr-var-item'><div class='xr-var-name'><span>OxygenSat_QF</span></div><div class='xr-var-dims'>(N_PROF, N_LEVELS)</div><div class='xr-var-dtype'>|S1</div><div class='xr-var-preview xr-preview'>...</div><input id='attrs-6c812eeb-0879-4a05-a1aa-346352ff2ea8' class='xr-var-attrs-in' type='checkbox' disabled><label for='attrs-6c812eeb-0879-4a05-a1aa-346352ff2ea8' title='Show/Hide attributes'><svg class='icon xr-icon-file-text2'><use xlink:href='#icon-file-text2'></use></svg></label><input id='data-b3fbe7cf-9bd1-4b6f-b8ca-d66181931ddb' class='xr-var-data-in' type='checkbox'><label for='data-b3fbe7cf-9bd1-4b6f-b8ca-d66181931ddb' title='Show/Hide data repr'><svg class='icon xr-icon-database'><use xlink:href='#icon-database'></use></svg></label><div class='xr-var-attrs'><dl class='xr-attrs'></dl></div><div class='xr-var-data'><pre>[100817 values with dtype=|S1]</pre></div></li><li class='xr-var-item'><div class='xr-var-name'><span>OxygenSat_QFA</span></div><div class='xr-var-dims'>(N_PROF, N_LEVELS)</div><div class='xr-var-dtype'>float64</div><div class='xr-var-preview xr-preview'>...</div><input id='attrs-7561cede-cf1f-4cb8-97e0-7e55eed0e163' class='xr-var-attrs-in' type='checkbox' ><label for='attrs-7561cede-cf1f-4cb8-97e0-7e55eed0e163' title='Show/Hide attributes'><svg class='icon xr-icon-file-text2'><use xlink:href='#icon-file-text2'></use></svg></label><input id='data-471bcd03-4bd4-4a3a-ae06-a3fc7c6ce40e' class='xr-var-data-in' type='checkbox'><label for='data-471bcd03-4bd4-4a3a-ae06-a3fc7c6ce40e' title='Show/Hide data repr'><svg class='icon xr-icon-database'><use xlink:href='#icon-database'></use></svg></label><div class='xr-var-attrs'><dl class='xr-attrs'><dt><span>NOTES :</span></dt><dd>Variables ending in _QFA are an alternate format (double matrix instead of character array)  for the variable ending in _QF</dd></dl></div><div class='xr-var-data'><pre>[100817 values with dtype=float64]</pre></div></li><li class='xr-var-item'><div class='xr-var-name'><span>Nitrate</span></div><div class='xr-var-dims'>(N_PROF, N_LEVELS)</div><div class='xr-var-dtype'>float64</div><div class='xr-var-preview xr-preview'>...</div><input id='attrs-8042ca62-302f-48f2-9e22-7a15375522e3' class='xr-var-attrs-in' type='checkbox' ><label for='attrs-8042ca62-302f-48f2-9e22-7a15375522e3' title='Show/Hide attributes'><svg class='icon xr-icon-file-text2'><use xlink:href='#icon-file-text2'></use></svg></label><input id='data-a3a17057-8202-459e-9336-9fb2a6eb3761' class='xr-var-data-in' type='checkbox'><label for='data-a3a17057-8202-459e-9336-9fb2a6eb3761' title='Show/Hide data repr'><svg class='icon xr-icon-database'><use xlink:href='#icon-database'></use></svg></label><div class='xr-var-attrs'><dl class='xr-attrs'><dt><span>units :</span></dt><dd>umol/kg</dd></dl></div><div class='xr-var-data'><pre>[100817 values with dtype=float64]</pre></div></li><li class='xr-var-item'><div class='xr-var-name'><span>Nitrate_QF</span></div><div class='xr-var-dims'>(N_PROF, N_LEVELS)</div><div class='xr-var-dtype'>|S1</div><div class='xr-var-preview xr-preview'>...</div><input id='attrs-4d18159a-e654-4946-8f28-33e2bbd8a70f' class='xr-var-attrs-in' type='checkbox' disabled><label for='attrs-4d18159a-e654-4946-8f28-33e2bbd8a70f' title='Show/Hide attributes'><svg class='icon xr-icon-file-text2'><use xlink:href='#icon-file-text2'></use></svg></label><input id='data-df7cd981-52a7-4a9b-93ad-2c5f1ab3f71e' class='xr-var-data-in' type='checkbox'><label for='data-df7cd981-52a7-4a9b-93ad-2c5f1ab3f71e' title='Show/Hide data repr'><svg class='icon xr-icon-database'><use xlink:href='#icon-database'></use></svg></label><div class='xr-var-attrs'><dl class='xr-attrs'></dl></div><div class='xr-var-data'><pre>[100817 values with dtype=|S1]</pre></div></li><li class='xr-var-item'><div class='xr-var-name'><span>Nitrate_QFA</span></div><div class='xr-var-dims'>(N_PROF, N_LEVELS)</div><div class='xr-var-dtype'>float64</div><div class='xr-var-preview xr-preview'>...</div><input id='attrs-04f0c4b5-37d6-446b-be19-9a0431632627' class='xr-var-attrs-in' type='checkbox' ><label for='attrs-04f0c4b5-37d6-446b-be19-9a0431632627' title='Show/Hide attributes'><svg class='icon xr-icon-file-text2'><use xlink:href='#icon-file-text2'></use></svg></label><input id='data-7d5247d5-fad8-483b-9e42-ef9e81ab7422' class='xr-var-data-in' type='checkbox'><label for='data-7d5247d5-fad8-483b-9e42-ef9e81ab7422' title='Show/Hide data repr'><svg class='icon xr-icon-database'><use xlink:href='#icon-database'></use></svg></label><div class='xr-var-attrs'><dl class='xr-attrs'><dt><span>NOTES :</span></dt><dd>Variables ending in _QFA are an alternate format (double matrix instead of character array)  for the variable ending in _QF</dd></dl></div><div class='xr-var-data'><pre>[100817 values with dtype=float64]</pre></div></li><li class='xr-var-item'><div class='xr-var-name'><span>Chl_a</span></div><div class='xr-var-dims'>(N_PROF, N_LEVELS)</div><div class='xr-var-dtype'>float64</div><div class='xr-var-preview xr-preview'>...</div><input id='attrs-3707e2ac-ada6-447b-bd78-c6d5df404e6b' class='xr-var-attrs-in' type='checkbox' ><label for='attrs-3707e2ac-ada6-447b-bd78-c6d5df404e6b' title='Show/Hide attributes'><svg class='icon xr-icon-file-text2'><use xlink:href='#icon-file-text2'></use></svg></label><input id='data-8c8e3613-4347-4b3d-9fdd-971c07f26be5' class='xr-var-data-in' type='checkbox'><label for='data-8c8e3613-4347-4b3d-9fdd-971c07f26be5' title='Show/Hide data repr'><svg class='icon xr-icon-database'><use xlink:href='#icon-database'></use></svg></label><div class='xr-var-attrs'><dl class='xr-attrs'><dt><span>units :</span></dt><dd>mg/m^3</dd></dl></div><div class='xr-var-data'><pre>[100817 values with dtype=float64]</pre></div></li><li class='xr-var-item'><div class='xr-var-name'><span>Chl_a_QF</span></div><div class='xr-var-dims'>(N_PROF, N_LEVELS)</div><div class='xr-var-dtype'>|S1</div><div class='xr-var-preview xr-preview'>...</div><input id='attrs-6364d51f-e56f-4fb1-ba95-03cd405559eb' class='xr-var-attrs-in' type='checkbox' disabled><label for='attrs-6364d51f-e56f-4fb1-ba95-03cd405559eb' title='Show/Hide attributes'><svg class='icon xr-icon-file-text2'><use xlink:href='#icon-file-text2'></use></svg></label><input id='data-fff5561a-671b-4a43-9573-c1a694985045' class='xr-var-data-in' type='checkbox'><label for='data-fff5561a-671b-4a43-9573-c1a694985045' title='Show/Hide data repr'><svg class='icon xr-icon-database'><use xlink:href='#icon-database'></use></svg></label><div class='xr-var-attrs'><dl class='xr-attrs'></dl></div><div class='xr-var-data'><pre>[100817 values with dtype=|S1]</pre></div></li><li class='xr-var-item'><div class='xr-var-name'><span>Chl_a_QFA</span></div><div class='xr-var-dims'>(N_PROF, N_LEVELS)</div><div class='xr-var-dtype'>float64</div><div class='xr-var-preview xr-preview'>...</div><input id='attrs-7e8a89eb-c165-4651-83ba-a0d8257f40d1' class='xr-var-attrs-in' type='checkbox' ><label for='attrs-7e8a89eb-c165-4651-83ba-a0d8257f40d1' title='Show/Hide attributes'><svg class='icon xr-icon-file-text2'><use xlink:href='#icon-file-text2'></use></svg></label><input id='data-ebebd7c0-adf7-49b1-b6ac-67eda6e0c912' class='xr-var-data-in' type='checkbox'><label for='data-ebebd7c0-adf7-49b1-b6ac-67eda6e0c912' title='Show/Hide data repr'><svg class='icon xr-icon-database'><use xlink:href='#icon-database'></use></svg></label><div class='xr-var-attrs'><dl class='xr-attrs'><dt><span>NOTES :</span></dt><dd>Variables ending in _QFA are an alternate format (double matrix instead of character array)  for the variable ending in _QF</dd></dl></div><div class='xr-var-data'><pre>[100817 values with dtype=float64]</pre></div></li><li class='xr-var-item'><div class='xr-var-name'><span>Chl_a_corr</span></div><div class='xr-var-dims'>(N_PROF, N_LEVELS)</div><div class='xr-var-dtype'>float64</div><div class='xr-var-preview xr-preview'>...</div><input id='attrs-f7a995af-dac7-466c-9823-b5100e4797e4' class='xr-var-attrs-in' type='checkbox' ><label for='attrs-f7a995af-dac7-466c-9823-b5100e4797e4' title='Show/Hide attributes'><svg class='icon xr-icon-file-text2'><use xlink:href='#icon-file-text2'></use></svg></label><input id='data-2133536b-e875-4ab7-92ac-6f8cb006957b' class='xr-var-data-in' type='checkbox'><label for='data-2133536b-e875-4ab7-92ac-6f8cb006957b' title='Show/Hide data repr'><svg class='icon xr-icon-database'><use xlink:href='#icon-database'></use></svg></label><div class='xr-var-attrs'><dl class='xr-attrs'><dt><span>units :</span></dt><dd>mg/m^3</dd></dl></div><div class='xr-var-data'><pre>[100817 values with dtype=float64]</pre></div></li><li class='xr-var-item'><div class='xr-var-name'><span>Chl_a_corr_QF</span></div><div class='xr-var-dims'>(N_PROF, N_LEVELS)</div><div class='xr-var-dtype'>|S1</div><div class='xr-var-preview xr-preview'>...</div><input id='attrs-cf366c7f-d5f2-4180-a9ea-0ba2edbe3bf1' class='xr-var-attrs-in' type='checkbox' disabled><label for='attrs-cf366c7f-d5f2-4180-a9ea-0ba2edbe3bf1' title='Show/Hide attributes'><svg class='icon xr-icon-file-text2'><use xlink:href='#icon-file-text2'></use></svg></label><input id='data-cfd149a3-2fe7-43be-9ae6-c898c66485a5' class='xr-var-data-in' type='checkbox'><label for='data-cfd149a3-2fe7-43be-9ae6-c898c66485a5' title='Show/Hide data repr'><svg class='icon xr-icon-database'><use xlink:href='#icon-database'></use></svg></label><div class='xr-var-attrs'><dl class='xr-attrs'></dl></div><div class='xr-var-data'><pre>[100817 values with dtype=|S1]</pre></div></li><li class='xr-var-item'><div class='xr-var-name'><span>Chl_a_corr_QFA</span></div><div class='xr-var-dims'>(N_PROF, N_LEVELS)</div><div class='xr-var-dtype'>float64</div><div class='xr-var-preview xr-preview'>...</div><input id='attrs-35dd11aa-c8bf-4568-8455-7ab43053e32d' class='xr-var-attrs-in' type='checkbox' ><label for='attrs-35dd11aa-c8bf-4568-8455-7ab43053e32d' title='Show/Hide attributes'><svg class='icon xr-icon-file-text2'><use xlink:href='#icon-file-text2'></use></svg></label><input id='data-3e9de961-30eb-429d-8c43-7cd85cca2ea6' class='xr-var-data-in' type='checkbox'><label for='data-3e9de961-30eb-429d-8c43-7cd85cca2ea6' title='Show/Hide data repr'><svg class='icon xr-icon-database'><use xlink:href='#icon-database'></use></svg></label><div class='xr-var-attrs'><dl class='xr-attrs'><dt><span>NOTES :</span></dt><dd>Variables ending in _QFA are an alternate format (double matrix instead of character array)  for the variable ending in _QF</dd></dl></div><div class='xr-var-data'><pre>[100817 values with dtype=float64]</pre></div></li><li class='xr-var-item'><div class='xr-var-name'><span>b_bp700</span></div><div class='xr-var-dims'>(N_PROF, N_LEVELS)</div><div class='xr-var-dtype'>float64</div><div class='xr-var-preview xr-preview'>...</div><input id='attrs-976a25e0-11df-4654-a966-05f633033e28' class='xr-var-attrs-in' type='checkbox' ><label for='attrs-976a25e0-11df-4654-a966-05f633033e28' title='Show/Hide attributes'><svg class='icon xr-icon-file-text2'><use xlink:href='#icon-file-text2'></use></svg></label><input id='data-6d35e3d2-7f69-47ed-b996-e0d7d82b87f7' class='xr-var-data-in' type='checkbox'><label for='data-6d35e3d2-7f69-47ed-b996-e0d7d82b87f7' title='Show/Hide data repr'><svg class='icon xr-icon-database'><use xlink:href='#icon-database'></use></svg></label><div class='xr-var-attrs'><dl class='xr-attrs'><dt><span>units :</span></dt><dd>1/m</dd></dl></div><div class='xr-var-data'><pre>[100817 values with dtype=float64]</pre></div></li><li class='xr-var-item'><div class='xr-var-name'><span>b_bp700_QF</span></div><div class='xr-var-dims'>(N_PROF, N_LEVELS)</div><div class='xr-var-dtype'>|S1</div><div class='xr-var-preview xr-preview'>...</div><input id='attrs-961d00ff-4eff-4aa3-bd61-5a788e661966' class='xr-var-attrs-in' type='checkbox' disabled><label for='attrs-961d00ff-4eff-4aa3-bd61-5a788e661966' title='Show/Hide attributes'><svg class='icon xr-icon-file-text2'><use xlink:href='#icon-file-text2'></use></svg></label><input id='data-9f99dd3b-9413-4c6a-be7b-5abbf6d43600' class='xr-var-data-in' type='checkbox'><label for='data-9f99dd3b-9413-4c6a-be7b-5abbf6d43600' title='Show/Hide data repr'><svg class='icon xr-icon-database'><use xlink:href='#icon-database'></use></svg></label><div class='xr-var-attrs'><dl class='xr-attrs'></dl></div><div class='xr-var-data'><pre>[100817 values with dtype=|S1]</pre></div></li><li class='xr-var-item'><div class='xr-var-name'><span>b_bp700_QFA</span></div><div class='xr-var-dims'>(N_PROF, N_LEVELS)</div><div class='xr-var-dtype'>float64</div><div class='xr-var-preview xr-preview'>...</div><input id='attrs-88d35c48-5129-47d7-b928-d86e06484c9f' class='xr-var-attrs-in' type='checkbox' ><label for='attrs-88d35c48-5129-47d7-b928-d86e06484c9f' title='Show/Hide attributes'><svg class='icon xr-icon-file-text2'><use xlink:href='#icon-file-text2'></use></svg></label><input id='data-f5b30ae1-19f8-4f57-8c1e-6bf285ef734b' class='xr-var-data-in' type='checkbox'><label for='data-f5b30ae1-19f8-4f57-8c1e-6bf285ef734b' title='Show/Hide data repr'><svg class='icon xr-icon-database'><use xlink:href='#icon-database'></use></svg></label><div class='xr-var-attrs'><dl class='xr-attrs'><dt><span>NOTES :</span></dt><dd>Variables ending in _QFA are an alternate format (double matrix instead of character array)  for the variable ending in _QF</dd></dl></div><div class='xr-var-data'><pre>[100817 values with dtype=float64]</pre></div></li><li class='xr-var-item'><div class='xr-var-name'><span>b_bp_corr</span></div><div class='xr-var-dims'>(N_PROF, N_LEVELS)</div><div class='xr-var-dtype'>float64</div><div class='xr-var-preview xr-preview'>...</div><input id='attrs-925ff992-1b70-4b3f-840b-c6d53aab7fce' class='xr-var-attrs-in' type='checkbox' ><label for='attrs-925ff992-1b70-4b3f-840b-c6d53aab7fce' title='Show/Hide attributes'><svg class='icon xr-icon-file-text2'><use xlink:href='#icon-file-text2'></use></svg></label><input id='data-13ddca8e-94c9-499f-a0a4-b12a8e34e5f5' class='xr-var-data-in' type='checkbox'><label for='data-13ddca8e-94c9-499f-a0a4-b12a8e34e5f5' title='Show/Hide data repr'><svg class='icon xr-icon-database'><use xlink:href='#icon-database'></use></svg></label><div class='xr-var-attrs'><dl class='xr-attrs'><dt><span>units :</span></dt><dd>1/m</dd></dl></div><div class='xr-var-data'><pre>[100817 values with dtype=float64]</pre></div></li><li class='xr-var-item'><div class='xr-var-name'><span>b_bp_corr_QF</span></div><div class='xr-var-dims'>(N_PROF, N_LEVELS)</div><div class='xr-var-dtype'>|S1</div><div class='xr-var-preview xr-preview'>...</div><input id='attrs-a89c14fa-e69f-4b98-a5f3-e1b884c14723' class='xr-var-attrs-in' type='checkbox' disabled><label for='attrs-a89c14fa-e69f-4b98-a5f3-e1b884c14723' title='Show/Hide attributes'><svg class='icon xr-icon-file-text2'><use xlink:href='#icon-file-text2'></use></svg></label><input id='data-c9d6bb94-09b2-4938-8a36-9d4349525a4d' class='xr-var-data-in' type='checkbox'><label for='data-c9d6bb94-09b2-4938-8a36-9d4349525a4d' title='Show/Hide data repr'><svg class='icon xr-icon-database'><use xlink:href='#icon-database'></use></svg></label><div class='xr-var-attrs'><dl class='xr-attrs'></dl></div><div class='xr-var-data'><pre>[100817 values with dtype=|S1]</pre></div></li><li class='xr-var-item'><div class='xr-var-name'><span>b_bp_corr_QFA</span></div><div class='xr-var-dims'>(N_PROF, N_LEVELS)</div><div class='xr-var-dtype'>float64</div><div class='xr-var-preview xr-preview'>...</div><input id='attrs-1ff78a77-31c8-491c-a28b-a60298770a54' class='xr-var-attrs-in' type='checkbox' ><label for='attrs-1ff78a77-31c8-491c-a28b-a60298770a54' title='Show/Hide attributes'><svg class='icon xr-icon-file-text2'><use xlink:href='#icon-file-text2'></use></svg></label><input id='data-82c5c8cc-3f15-47df-9d29-f54a77b8d8c4' class='xr-var-data-in' type='checkbox'><label for='data-82c5c8cc-3f15-47df-9d29-f54a77b8d8c4' title='Show/Hide data repr'><svg class='icon xr-icon-database'><use xlink:href='#icon-database'></use></svg></label><div class='xr-var-attrs'><dl class='xr-attrs'><dt><span>NOTES :</span></dt><dd>Variables ending in _QFA are an alternate format (double matrix instead of character array)  for the variable ending in _QF</dd></dl></div><div class='xr-var-data'><pre>[100817 values with dtype=float64]</pre></div></li><li class='xr-var-item'><div class='xr-var-name'><span>POC</span></div><div class='xr-var-dims'>(N_PROF, N_LEVELS)</div><div class='xr-var-dtype'>float64</div><div class='xr-var-preview xr-preview'>...</div><input id='attrs-a5646ebb-0f19-4e53-8862-24469c9c74e7' class='xr-var-attrs-in' type='checkbox' ><label for='attrs-a5646ebb-0f19-4e53-8862-24469c9c74e7' title='Show/Hide attributes'><svg class='icon xr-icon-file-text2'><use xlink:href='#icon-file-text2'></use></svg></label><input id='data-7d57eac1-4827-4d14-a742-44e92e1a2371' class='xr-var-data-in' type='checkbox'><label for='data-7d57eac1-4827-4d14-a742-44e92e1a2371' title='Show/Hide data repr'><svg class='icon xr-icon-database'><use xlink:href='#icon-database'></use></svg></label><div class='xr-var-attrs'><dl class='xr-attrs'><dt><span>units :</span></dt><dd>mmol/m^3</dd></dl></div><div class='xr-var-data'><pre>[100817 values with dtype=float64]</pre></div></li><li class='xr-var-item'><div class='xr-var-name'><span>POC_QF</span></div><div class='xr-var-dims'>(N_PROF, N_LEVELS)</div><div class='xr-var-dtype'>|S1</div><div class='xr-var-preview xr-preview'>...</div><input id='attrs-d54a7be5-3a20-481d-86c2-98cd1ba89f83' class='xr-var-attrs-in' type='checkbox' disabled><label for='attrs-d54a7be5-3a20-481d-86c2-98cd1ba89f83' title='Show/Hide attributes'><svg class='icon xr-icon-file-text2'><use xlink:href='#icon-file-text2'></use></svg></label><input id='data-13d11048-63f0-444a-bc51-b094160b6a9a' class='xr-var-data-in' type='checkbox'><label for='data-13d11048-63f0-444a-bc51-b094160b6a9a' title='Show/Hide data repr'><svg class='icon xr-icon-database'><use xlink:href='#icon-database'></use></svg></label><div class='xr-var-attrs'><dl class='xr-attrs'></dl></div><div class='xr-var-data'><pre>[100817 values with dtype=|S1]</pre></div></li><li class='xr-var-item'><div class='xr-var-name'><span>POC_QFA</span></div><div class='xr-var-dims'>(N_PROF, N_LEVELS)</div><div class='xr-var-dtype'>float64</div><div class='xr-var-preview xr-preview'>...</div><input id='attrs-309539f2-c23c-4750-afbe-35e4c0c881d8' class='xr-var-attrs-in' type='checkbox' ><label for='attrs-309539f2-c23c-4750-afbe-35e4c0c881d8' title='Show/Hide attributes'><svg class='icon xr-icon-file-text2'><use xlink:href='#icon-file-text2'></use></svg></label><input id='data-d537b236-3547-486d-b13c-841c3ea64f0c' class='xr-var-data-in' type='checkbox'><label for='data-d537b236-3547-486d-b13c-841c3ea64f0c' title='Show/Hide data repr'><svg class='icon xr-icon-database'><use xlink:href='#icon-database'></use></svg></label><div class='xr-var-attrs'><dl class='xr-attrs'><dt><span>NOTES :</span></dt><dd>Variables ending in _QFA are an alternate format (double matrix instead of character array)  for the variable ending in _QF</dd></dl></div><div class='xr-var-data'><pre>[100817 values with dtype=float64]</pre></div></li><li class='xr-var-item'><div class='xr-var-name'><span>pHinsitu</span></div><div class='xr-var-dims'>(N_PROF, N_LEVELS)</div><div class='xr-var-dtype'>float64</div><div class='xr-var-preview xr-preview'>...</div><input id='attrs-cbfc2ecc-46c6-464d-b51d-bfbf38311198' class='xr-var-attrs-in' type='checkbox' ><label for='attrs-cbfc2ecc-46c6-464d-b51d-bfbf38311198' title='Show/Hide attributes'><svg class='icon xr-icon-file-text2'><use xlink:href='#icon-file-text2'></use></svg></label><input id='data-b3e0e919-8ee7-4e0f-a772-1c5f2bc99b95' class='xr-var-data-in' type='checkbox'><label for='data-b3e0e919-8ee7-4e0f-a772-1c5f2bc99b95' title='Show/Hide data repr'><svg class='icon xr-icon-database'><use xlink:href='#icon-database'></use></svg></label><div class='xr-var-attrs'><dl class='xr-attrs'><dt><span>units :</span></dt><dd>Total</dd></dl></div><div class='xr-var-data'><pre>[100817 values with dtype=float64]</pre></div></li><li class='xr-var-item'><div class='xr-var-name'><span>pHinsitu_QF</span></div><div class='xr-var-dims'>(N_PROF, N_LEVELS)</div><div class='xr-var-dtype'>|S1</div><div class='xr-var-preview xr-preview'>...</div><input id='attrs-fd119497-1f26-45ab-85e8-e74b8b95b6e0' class='xr-var-attrs-in' type='checkbox' disabled><label for='attrs-fd119497-1f26-45ab-85e8-e74b8b95b6e0' title='Show/Hide attributes'><svg class='icon xr-icon-file-text2'><use xlink:href='#icon-file-text2'></use></svg></label><input id='data-12264e53-c001-4d37-a34d-d59900c89959' class='xr-var-data-in' type='checkbox'><label for='data-12264e53-c001-4d37-a34d-d59900c89959' title='Show/Hide data repr'><svg class='icon xr-icon-database'><use xlink:href='#icon-database'></use></svg></label><div class='xr-var-attrs'><dl class='xr-attrs'></dl></div><div class='xr-var-data'><pre>[100817 values with dtype=|S1]</pre></div></li><li class='xr-var-item'><div class='xr-var-name'><span>pHinsitu_QFA</span></div><div class='xr-var-dims'>(N_PROF, N_LEVELS)</div><div class='xr-var-dtype'>float64</div><div class='xr-var-preview xr-preview'>...</div><input id='attrs-55695a39-0add-4b1e-b0a1-1fa3c26c2bae' class='xr-var-attrs-in' type='checkbox' ><label for='attrs-55695a39-0add-4b1e-b0a1-1fa3c26c2bae' title='Show/Hide attributes'><svg class='icon xr-icon-file-text2'><use xlink:href='#icon-file-text2'></use></svg></label><input id='data-aa039d37-88b2-4a53-afc2-078cc29bd17c' class='xr-var-data-in' type='checkbox'><label for='data-aa039d37-88b2-4a53-afc2-078cc29bd17c' title='Show/Hide data repr'><svg class='icon xr-icon-database'><use xlink:href='#icon-database'></use></svg></label><div class='xr-var-attrs'><dl class='xr-attrs'><dt><span>NOTES :</span></dt><dd>Variables ending in _QFA are an alternate format (double matrix instead of character array)  for the variable ending in _QF</dd></dl></div><div class='xr-var-data'><pre>[100817 values with dtype=float64]</pre></div></li><li class='xr-var-item'><div class='xr-var-name'><span>pH25C</span></div><div class='xr-var-dims'>(N_PROF, N_LEVELS)</div><div class='xr-var-dtype'>float64</div><div class='xr-var-preview xr-preview'>...</div><input id='attrs-04abfa95-e5de-40e7-8392-f459e41d71ac' class='xr-var-attrs-in' type='checkbox' ><label for='attrs-04abfa95-e5de-40e7-8392-f459e41d71ac' title='Show/Hide attributes'><svg class='icon xr-icon-file-text2'><use xlink:href='#icon-file-text2'></use></svg></label><input id='data-792e2f8b-627f-48e3-90ce-d426c28fc545' class='xr-var-data-in' type='checkbox'><label for='data-792e2f8b-627f-48e3-90ce-d426c28fc545' title='Show/Hide data repr'><svg class='icon xr-icon-database'><use xlink:href='#icon-database'></use></svg></label><div class='xr-var-attrs'><dl class='xr-attrs'><dt><span>units :</span></dt><dd>Total</dd></dl></div><div class='xr-var-data'><pre>[100817 values with dtype=float64]</pre></div></li><li class='xr-var-item'><div class='xr-var-name'><span>pH25C_QF</span></div><div class='xr-var-dims'>(N_PROF, N_LEVELS)</div><div class='xr-var-dtype'>|S1</div><div class='xr-var-preview xr-preview'>...</div><input id='attrs-197b5538-e3e0-48e3-ab1e-d2ce9b7a1899' class='xr-var-attrs-in' type='checkbox' disabled><label for='attrs-197b5538-e3e0-48e3-ab1e-d2ce9b7a1899' title='Show/Hide attributes'><svg class='icon xr-icon-file-text2'><use xlink:href='#icon-file-text2'></use></svg></label><input id='data-c4b41a4f-18b8-45dd-8a93-c3e036024e02' class='xr-var-data-in' type='checkbox'><label for='data-c4b41a4f-18b8-45dd-8a93-c3e036024e02' title='Show/Hide data repr'><svg class='icon xr-icon-database'><use xlink:href='#icon-database'></use></svg></label><div class='xr-var-attrs'><dl class='xr-attrs'></dl></div><div class='xr-var-data'><pre>[100817 values with dtype=|S1]</pre></div></li><li class='xr-var-item'><div class='xr-var-name'><span>pH25C_QFA</span></div><div class='xr-var-dims'>(N_PROF, N_LEVELS)</div><div class='xr-var-dtype'>float64</div><div class='xr-var-preview xr-preview'>...</div><input id='attrs-0b3cc01b-5f8d-42c3-9890-6b914cef553b' class='xr-var-attrs-in' type='checkbox' ><label for='attrs-0b3cc01b-5f8d-42c3-9890-6b914cef553b' title='Show/Hide attributes'><svg class='icon xr-icon-file-text2'><use xlink:href='#icon-file-text2'></use></svg></label><input id='data-eeca7bf8-7c2e-4655-9727-ad7d9f1707f6' class='xr-var-data-in' type='checkbox'><label for='data-eeca7bf8-7c2e-4655-9727-ad7d9f1707f6' title='Show/Hide data repr'><svg class='icon xr-icon-database'><use xlink:href='#icon-database'></use></svg></label><div class='xr-var-attrs'><dl class='xr-attrs'><dt><span>NOTES :</span></dt><dd>Variables ending in _QFA are an alternate format (double matrix instead of character array)  for the variable ending in _QF</dd></dl></div><div class='xr-var-data'><pre>[100817 values with dtype=float64]</pre></div></li><li class='xr-var-item'><div class='xr-var-name'><span>TALK_MLR</span></div><div class='xr-var-dims'>(N_PROF, N_LEVELS)</div><div class='xr-var-dtype'>float64</div><div class='xr-var-preview xr-preview'>...</div><input id='attrs-3a34bf8e-3d33-4bf8-9b04-fe470458d2cf' class='xr-var-attrs-in' type='checkbox' ><label for='attrs-3a34bf8e-3d33-4bf8-9b04-fe470458d2cf' title='Show/Hide attributes'><svg class='icon xr-icon-file-text2'><use xlink:href='#icon-file-text2'></use></svg></label><input id='data-ca4118de-9581-4018-b69d-203f668f502b' class='xr-var-data-in' type='checkbox'><label for='data-ca4118de-9581-4018-b69d-203f668f502b' title='Show/Hide data repr'><svg class='icon xr-icon-database'><use xlink:href='#icon-database'></use></svg></label><div class='xr-var-attrs'><dl class='xr-attrs'><dt><span>units :</span></dt><dd>umol/kg</dd></dl></div><div class='xr-var-data'><pre>[100817 values with dtype=float64]</pre></div></li><li class='xr-var-item'><div class='xr-var-name'><span>TALK_MLR_QF</span></div><div class='xr-var-dims'>(N_PROF, N_LEVELS)</div><div class='xr-var-dtype'>|S1</div><div class='xr-var-preview xr-preview'>...</div><input id='attrs-04f57b41-7b9c-4baa-bcc9-dc5397e7364f' class='xr-var-attrs-in' type='checkbox' disabled><label for='attrs-04f57b41-7b9c-4baa-bcc9-dc5397e7364f' title='Show/Hide attributes'><svg class='icon xr-icon-file-text2'><use xlink:href='#icon-file-text2'></use></svg></label><input id='data-a0132e6f-a524-4a1b-a5ba-b80f3b4e9382' class='xr-var-data-in' type='checkbox'><label for='data-a0132e6f-a524-4a1b-a5ba-b80f3b4e9382' title='Show/Hide data repr'><svg class='icon xr-icon-database'><use xlink:href='#icon-database'></use></svg></label><div class='xr-var-attrs'><dl class='xr-attrs'></dl></div><div class='xr-var-data'><pre>[100817 values with dtype=|S1]</pre></div></li><li class='xr-var-item'><div class='xr-var-name'><span>TALK_MLR_QFA</span></div><div class='xr-var-dims'>(N_PROF, N_LEVELS)</div><div class='xr-var-dtype'>float64</div><div class='xr-var-preview xr-preview'>...</div><input id='attrs-3790f4a7-0607-4f06-bc37-78e23977da79' class='xr-var-attrs-in' type='checkbox' ><label for='attrs-3790f4a7-0607-4f06-bc37-78e23977da79' title='Show/Hide attributes'><svg class='icon xr-icon-file-text2'><use xlink:href='#icon-file-text2'></use></svg></label><input id='data-a46ad67f-1dab-47ad-936e-5647fd2ec0e3' class='xr-var-data-in' type='checkbox'><label for='data-a46ad67f-1dab-47ad-936e-5647fd2ec0e3' title='Show/Hide data repr'><svg class='icon xr-icon-database'><use xlink:href='#icon-database'></use></svg></label><div class='xr-var-attrs'><dl class='xr-attrs'><dt><span>NOTES :</span></dt><dd>Variables ending in _QFA are an alternate format (double matrix instead of character array)  for the variable ending in _QF</dd></dl></div><div class='xr-var-data'><pre>[100817 values with dtype=float64]</pre></div></li><li class='xr-var-item'><div class='xr-var-name'><span>DIC_MLR</span></div><div class='xr-var-dims'>(N_PROF, N_LEVELS)</div><div class='xr-var-dtype'>float64</div><div class='xr-var-preview xr-preview'>...</div><input id='attrs-8b7f7586-d4db-4b10-8feb-3f2df185c854' class='xr-var-attrs-in' type='checkbox' ><label for='attrs-8b7f7586-d4db-4b10-8feb-3f2df185c854' title='Show/Hide attributes'><svg class='icon xr-icon-file-text2'><use xlink:href='#icon-file-text2'></use></svg></label><input id='data-122e92bd-de3a-4d01-80dd-276e8225ccd0' class='xr-var-data-in' type='checkbox'><label for='data-122e92bd-de3a-4d01-80dd-276e8225ccd0' title='Show/Hide data repr'><svg class='icon xr-icon-database'><use xlink:href='#icon-database'></use></svg></label><div class='xr-var-attrs'><dl class='xr-attrs'><dt><span>units :</span></dt><dd>umol/kg</dd></dl></div><div class='xr-var-data'><pre>[100817 values with dtype=float64]</pre></div></li><li class='xr-var-item'><div class='xr-var-name'><span>DIC_MLR_QF</span></div><div class='xr-var-dims'>(N_PROF, N_LEVELS)</div><div class='xr-var-dtype'>|S1</div><div class='xr-var-preview xr-preview'>...</div><input id='attrs-6b80d1d5-f3b0-48aa-b209-8e18dc0a40cc' class='xr-var-attrs-in' type='checkbox' disabled><label for='attrs-6b80d1d5-f3b0-48aa-b209-8e18dc0a40cc' title='Show/Hide attributes'><svg class='icon xr-icon-file-text2'><use xlink:href='#icon-file-text2'></use></svg></label><input id='data-7deae5a1-d26c-4cb6-abb1-a627009a133a' class='xr-var-data-in' type='checkbox'><label for='data-7deae5a1-d26c-4cb6-abb1-a627009a133a' title='Show/Hide data repr'><svg class='icon xr-icon-database'><use xlink:href='#icon-database'></use></svg></label><div class='xr-var-attrs'><dl class='xr-attrs'></dl></div><div class='xr-var-data'><pre>[100817 values with dtype=|S1]</pre></div></li><li class='xr-var-item'><div class='xr-var-name'><span>DIC_MLR_QFA</span></div><div class='xr-var-dims'>(N_PROF, N_LEVELS)</div><div class='xr-var-dtype'>float64</div><div class='xr-var-preview xr-preview'>...</div><input id='attrs-78e7200a-3ce5-4585-a477-e4ad6c1d9763' class='xr-var-attrs-in' type='checkbox' ><label for='attrs-78e7200a-3ce5-4585-a477-e4ad6c1d9763' title='Show/Hide attributes'><svg class='icon xr-icon-file-text2'><use xlink:href='#icon-file-text2'></use></svg></label><input id='data-7ed70a3a-0258-440d-8c3e-a70927e295d9' class='xr-var-data-in' type='checkbox'><label for='data-7ed70a3a-0258-440d-8c3e-a70927e295d9' title='Show/Hide data repr'><svg class='icon xr-icon-database'><use xlink:href='#icon-database'></use></svg></label><div class='xr-var-attrs'><dl class='xr-attrs'><dt><span>NOTES :</span></dt><dd>Variables ending in _QFA are an alternate format (double matrix instead of character array)  for the variable ending in _QF</dd></dl></div><div class='xr-var-data'><pre>[100817 values with dtype=float64]</pre></div></li><li class='xr-var-item'><div class='xr-var-name'><span>pCO2_MLR</span></div><div class='xr-var-dims'>(N_PROF, N_LEVELS)</div><div class='xr-var-dtype'>float64</div><div class='xr-var-preview xr-preview'>...</div><input id='attrs-b93df8b9-e629-479d-bf7c-0bb25dda2146' class='xr-var-attrs-in' type='checkbox' ><label for='attrs-b93df8b9-e629-479d-bf7c-0bb25dda2146' title='Show/Hide attributes'><svg class='icon xr-icon-file-text2'><use xlink:href='#icon-file-text2'></use></svg></label><input id='data-2b550d57-2abd-4479-9d92-23efc78435c1' class='xr-var-data-in' type='checkbox'><label for='data-2b550d57-2abd-4479-9d92-23efc78435c1' title='Show/Hide data repr'><svg class='icon xr-icon-database'><use xlink:href='#icon-database'></use></svg></label><div class='xr-var-attrs'><dl class='xr-attrs'><dt><span>units :</span></dt><dd>uatm</dd></dl></div><div class='xr-var-data'><pre>[100817 values with dtype=float64]</pre></div></li><li class='xr-var-item'><div class='xr-var-name'><span>pCO2_MLR_QF</span></div><div class='xr-var-dims'>(N_PROF, N_LEVELS)</div><div class='xr-var-dtype'>|S1</div><div class='xr-var-preview xr-preview'>...</div><input id='attrs-560e4e75-0d95-454c-8d59-a38ba39195a0' class='xr-var-attrs-in' type='checkbox' disabled><label for='attrs-560e4e75-0d95-454c-8d59-a38ba39195a0' title='Show/Hide attributes'><svg class='icon xr-icon-file-text2'><use xlink:href='#icon-file-text2'></use></svg></label><input id='data-130bbff0-291e-4df2-ad36-359a1fc3c536' class='xr-var-data-in' type='checkbox'><label for='data-130bbff0-291e-4df2-ad36-359a1fc3c536' title='Show/Hide data repr'><svg class='icon xr-icon-database'><use xlink:href='#icon-database'></use></svg></label><div class='xr-var-attrs'><dl class='xr-attrs'></dl></div><div class='xr-var-data'><pre>[100817 values with dtype=|S1]</pre></div></li><li class='xr-var-item'><div class='xr-var-name'><span>pCO2_MLR_QFA</span></div><div class='xr-var-dims'>(N_PROF, N_LEVELS)</div><div class='xr-var-dtype'>float64</div><div class='xr-var-preview xr-preview'>...</div><input id='attrs-5b3b3c88-342d-4097-bb2b-5e4d743c7c85' class='xr-var-attrs-in' type='checkbox' ><label for='attrs-5b3b3c88-342d-4097-bb2b-5e4d743c7c85' title='Show/Hide attributes'><svg class='icon xr-icon-file-text2'><use xlink:href='#icon-file-text2'></use></svg></label><input id='data-c3287c50-fd29-45a7-9376-c02bf1b507a4' class='xr-var-data-in' type='checkbox'><label for='data-c3287c50-fd29-45a7-9376-c02bf1b507a4' title='Show/Hide data repr'><svg class='icon xr-icon-database'><use xlink:href='#icon-database'></use></svg></label><div class='xr-var-attrs'><dl class='xr-attrs'><dt><span>NOTES :</span></dt><dd>Variables ending in _QFA are an alternate format (double matrix instead of character array)  for the variable ending in _QF</dd></dl></div><div class='xr-var-data'><pre>[100817 values with dtype=float64]</pre></div></li><li class='xr-var-item'><div class='xr-var-name'><span>Type</span></div><div class='xr-var-dims'>()</div><div class='xr-var-dtype'>|S1</div><div class='xr-var-preview xr-preview'>...</div><input id='attrs-5781bfc7-375e-4148-8e0f-f252494bb165' class='xr-var-attrs-in' type='checkbox' disabled><label for='attrs-5781bfc7-375e-4148-8e0f-f252494bb165' title='Show/Hide attributes'><svg class='icon xr-icon-file-text2'><use xlink:href='#icon-file-text2'></use></svg></label><input id='data-19974396-b461-4f4d-8450-36a8590a82d4' class='xr-var-data-in' type='checkbox'><label for='data-19974396-b461-4f4d-8450-36a8590a82d4' title='Show/Hide data repr'><svg class='icon xr-icon-database'><use xlink:href='#icon-database'></use></svg></label><div class='xr-var-attrs'><dl class='xr-attrs'></dl></div><div class='xr-var-data'><pre>array(b&#x27;C&#x27;, dtype=&#x27;|S1&#x27;)</pre></div></li><li class='xr-var-item'><div class='xr-var-name'><span>mon_day_yr</span></div><div class='xr-var-dims'>(N_PROF)</div><div class='xr-var-dtype'>|S10</div><div class='xr-var-preview xr-preview'>...</div><input id='attrs-843ddcf2-d2fb-4fab-b589-a50c6f07e89d' class='xr-var-attrs-in' type='checkbox' disabled><label for='attrs-843ddcf2-d2fb-4fab-b589-a50c6f07e89d' title='Show/Hide attributes'><svg class='icon xr-icon-file-text2'><use xlink:href='#icon-file-text2'></use></svg></label><input id='data-4d6d1a66-5a8c-4277-9423-eed77ee87cd8' class='xr-var-data-in' type='checkbox'><label for='data-4d6d1a66-5a8c-4277-9423-eed77ee87cd8' title='Show/Hide data repr'><svg class='icon xr-icon-database'><use xlink:href='#icon-database'></use></svg></label><div class='xr-var-attrs'><dl class='xr-attrs'></dl></div><div class='xr-var-data'><pre>array([b&#x27;01/22/2015&#x27;, b&#x27;02/01/2015&#x27;, b&#x27;02/12/2015&#x27;, b&#x27;02/22/2015&#x27;,\n",
       "       b&#x27;03/04/2015&#x27;, b&#x27;03/15/2015&#x27;, b&#x27;03/25/2015&#x27;, b&#x27;04/04/2015&#x27;,\n",
       "       b&#x27;04/15/2015&#x27;, b&#x27;04/25/2015&#x27;, b&#x27;05/05/2015&#x27;, b&#x27;05/16/2015&#x27;,\n",
       "       b&#x27;05/26/2015&#x27;, b&#x27;06/05/2015&#x27;, b&#x27;06/16/2015&#x27;, b&#x27;06/26/2015&#x27;,\n",
       "       b&#x27;07/06/2015&#x27;, b&#x27;07/17/2015&#x27;, b&#x27;07/27/2015&#x27;, b&#x27;08/06/2015&#x27;,\n",
       "       b&#x27;08/16/2015&#x27;, b&#x27;08/27/2015&#x27;, b&#x27;09/06/2015&#x27;, b&#x27;09/16/2015&#x27;,\n",
       "       b&#x27;09/26/2015&#x27;, b&#x27;10/06/2015&#x27;, b&#x27;10/17/2015&#x27;, b&#x27;10/27/2015&#x27;,\n",
       "       b&#x27;11/06/2015&#x27;, b&#x27;11/16/2015&#x27;, b&#x27;11/27/2015&#x27;, b&#x27;12/07/2015&#x27;,\n",
       "       b&#x27;12/17/2015&#x27;, b&#x27;12/27/2015&#x27;, b&#x27;01/07/2016&#x27;, b&#x27;01/17/2016&#x27;,\n",
       "       b&#x27;01/28/2016&#x27;, b&#x27;02/07/2016&#x27;, b&#x27;02/17/2016&#x27;, b&#x27;02/28/2016&#x27;,\n",
       "       b&#x27;03/09/2016&#x27;, b&#x27;03/19/2016&#x27;, b&#x27;03/30/2016&#x27;, b&#x27;04/09/2016&#x27;,\n",
       "       b&#x27;04/19/2016&#x27;, b&#x27;04/30/2016&#x27;, b&#x27;05/10/2016&#x27;, b&#x27;05/20/2016&#x27;,\n",
       "       b&#x27;05/31/2016&#x27;, b&#x27;06/10/2016&#x27;, b&#x27;06/20/2016&#x27;, b&#x27;06/30/2016&#x27;,\n",
       "       b&#x27;07/11/2016&#x27;, b&#x27;07/21/2016&#x27;, b&#x27;07/31/2016&#x27;, b&#x27;08/10/2016&#x27;,\n",
       "       b&#x27;08/21/2016&#x27;, b&#x27;08/31/2016&#x27;, b&#x27;09/10/2016&#x27;, b&#x27;09/20/2016&#x27;,\n",
       "       b&#x27;10/01/2016&#x27;, b&#x27;10/11/2016&#x27;, b&#x27;10/21/2016&#x27;, b&#x27;10/31/2016&#x27;,\n",
       "       b&#x27;11/11/2016&#x27;, b&#x27;11/21/2016&#x27;, b&#x27;12/01/2016&#x27;, b&#x27;12/11/2016&#x27;,\n",
       "       b&#x27;12/22/2016&#x27;, b&#x27;01/01/2017&#x27;, b&#x27;01/11/2017&#x27;, b&#x27;01/22/2017&#x27;,\n",
       "       b&#x27;02/01/2017&#x27;, b&#x27;02/11/2017&#x27;, b&#x27;02/22/2017&#x27;, b&#x27;03/04/2017&#x27;,\n",
       "       b&#x27;03/14/2017&#x27;, b&#x27;03/25/2017&#x27;, b&#x27;04/04/2017&#x27;, b&#x27;04/14/2017&#x27;,\n",
       "       b&#x27;04/25/2017&#x27;, b&#x27;05/05/2017&#x27;, b&#x27;05/16/2017&#x27;, b&#x27;05/26/2017&#x27;,\n",
       "       b&#x27;06/05/2017&#x27;, b&#x27;06/16/2017&#x27;, b&#x27;06/26/2017&#x27;, b&#x27;07/06/2017&#x27;,\n",
       "       b&#x27;07/16/2017&#x27;, b&#x27;07/27/2017&#x27;, b&#x27;08/06/2017&#x27;, b&#x27;08/16/2017&#x27;,\n",
       "       b&#x27;08/26/2017&#x27;, b&#x27;09/06/2017&#x27;, b&#x27;09/16/2017&#x27;, b&#x27;09/26/2017&#x27;,\n",
       "       b&#x27;10/06/2017&#x27;, b&#x27;10/17/2017&#x27;, b&#x27;10/27/2017&#x27;, b&#x27;11/06/2017&#x27;,\n",
       "       b&#x27;11/16/2017&#x27;, b&#x27;11/27/2017&#x27;, b&#x27;12/07/2017&#x27;, b&#x27;12/17/2017&#x27;,\n",
       "       b&#x27;12/28/2017&#x27;, b&#x27;01/07/2018&#x27;, b&#x27;01/18/2018&#x27;, b&#x27;01/28/2018&#x27;,\n",
       "       b&#x27;02/08/2018&#x27;, b&#x27;02/18/2018&#x27;, b&#x27;02/28/2018&#x27;, b&#x27;03/11/2018&#x27;,\n",
       "       b&#x27;03/21/2018&#x27;, b&#x27;03/31/2018&#x27;, b&#x27;04/11/2018&#x27;, b&#x27;04/21/2018&#x27;,\n",
       "       b&#x27;05/01/2018&#x27;, b&#x27;05/12/2018&#x27;, b&#x27;05/22/2018&#x27;, b&#x27;06/01/2018&#x27;,\n",
       "       b&#x27;06/12/2018&#x27;, b&#x27;06/22/2018&#x27;, b&#x27;07/02/2018&#x27;, b&#x27;07/13/2018&#x27;,\n",
       "       b&#x27;07/23/2018&#x27;, b&#x27;08/02/2018&#x27;, b&#x27;08/12/2018&#x27;, b&#x27;08/22/2018&#x27;,\n",
       "       b&#x27;09/02/2018&#x27;, b&#x27;09/12/2018&#x27;, b&#x27;09/22/2018&#x27;, b&#x27;10/02/2018&#x27;,\n",
       "       b&#x27;10/13/2018&#x27;, b&#x27;10/23/2018&#x27;, b&#x27;11/02/2018&#x27;, b&#x27;11/12/2018&#x27;,\n",
       "       b&#x27;11/23/2018&#x27;, b&#x27;12/03/2018&#x27;, b&#x27;12/13/2018&#x27;, b&#x27;12/23/2018&#x27;,\n",
       "       b&#x27;01/03/2019&#x27;, b&#x27;01/13/2019&#x27;, b&#x27;01/24/2019&#x27;, b&#x27;02/03/2019&#x27;,\n",
       "       b&#x27;02/14/2019&#x27;, b&#x27;02/24/2019&#x27;, b&#x27;03/06/2019&#x27;, b&#x27;03/16/2019&#x27;,\n",
       "       b&#x27;03/27/2019&#x27;, b&#x27;04/06/2019&#x27;, b&#x27;04/16/2019&#x27;, b&#x27;04/27/2019&#x27;,\n",
       "       b&#x27;05/07/2019&#x27;, b&#x27;05/17/2019&#x27;, b&#x27;05/27/2019&#x27;, b&#x27;06/07/2019&#x27;,\n",
       "       b&#x27;06/17/2019&#x27;, b&#x27;06/27/2019&#x27;, b&#x27;07/08/2019&#x27;, b&#x27;07/18/2019&#x27;,\n",
       "       b&#x27;07/28/2019&#x27;, b&#x27;08/07/2019&#x27;, b&#x27;08/18/2019&#x27;, b&#x27;08/28/2019&#x27;,\n",
       "       b&#x27;09/07/2019&#x27;, b&#x27;09/17/2019&#x27;, b&#x27;09/27/2019&#x27;, b&#x27;10/08/2019&#x27;,\n",
       "       b&#x27;10/18/2019&#x27;, b&#x27;10/28/2019&#x27;, b&#x27;11/07/2019&#x27;, b&#x27;11/18/2019&#x27;,\n",
       "       b&#x27;11/28/2019&#x27;, b&#x27;12/08/2019&#x27;, b&#x27;12/19/2019&#x27;, b&#x27;12/29/2019&#x27;,\n",
       "       b&#x27;01/08/2020&#x27;, b&#x27;01/19/2020&#x27;, b&#x27;01/29/2020&#x27;, b&#x27;02/08/2020&#x27;,\n",
       "       b&#x27;02/19/2020&#x27;], dtype=&#x27;|S10&#x27;)</pre></div></li><li class='xr-var-item'><div class='xr-var-name'><span>hh_mm</span></div><div class='xr-var-dims'>(N_PROF)</div><div class='xr-var-dtype'>|S5</div><div class='xr-var-preview xr-preview'>...</div><input id='attrs-37bfb195-8ece-475b-a169-6e185c33fc2e' class='xr-var-attrs-in' type='checkbox' disabled><label for='attrs-37bfb195-8ece-475b-a169-6e185c33fc2e' title='Show/Hide attributes'><svg class='icon xr-icon-file-text2'><use xlink:href='#icon-file-text2'></use></svg></label><input id='data-cc2a6f27-76b9-460d-a8e3-83f28ee25192' class='xr-var-data-in' type='checkbox'><label for='data-cc2a6f27-76b9-460d-a8e3-83f28ee25192' title='Show/Hide data repr'><svg class='icon xr-icon-database'><use xlink:href='#icon-database'></use></svg></label><div class='xr-var-attrs'><dl class='xr-attrs'></dl></div><div class='xr-var-data'><pre>array([b&#x27;05:14&#x27;, b&#x27;16:13&#x27;, b&#x27;00:23&#x27;, b&#x27;09:34&#x27;, b&#x27;19:00&#x27;, b&#x27;01:54&#x27;, b&#x27;10:07&#x27;,\n",
       "       b&#x27;18:14&#x27;, b&#x27;02:36&#x27;, b&#x27;11:38&#x27;, b&#x27;22:31&#x27;, b&#x27;08:16&#x27;, b&#x27;16:10&#x27;, b&#x27;22:13&#x27;,\n",
       "       b&#x27;09:17&#x27;, b&#x27;14:57&#x27;, b&#x27;20:25&#x27;, b&#x27;01:51&#x27;, b&#x27;07:27&#x27;, b&#x27;13:11&#x27;, b&#x27;18:43&#x27;,\n",
       "       b&#x27;00:23&#x27;, b&#x27;05:55&#x27;, b&#x27;11:32&#x27;, b&#x27;17:05&#x27;, b&#x27;22:51&#x27;, b&#x27;04:37&#x27;, b&#x27;10:18&#x27;,\n",
       "       b&#x27;15:47&#x27;, b&#x27;21:14&#x27;, b&#x27;02:52&#x27;, b&#x27;08:23&#x27;, b&#x27;14:13&#x27;, b&#x27;20:08&#x27;, b&#x27;14:37&#x27;,\n",
       "       b&#x27;22:15&#x27;, b&#x27;07:34&#x27;, b&#x27;14:16&#x27;, b&#x27;20:43&#x27;, b&#x27;06:50&#x27;, b&#x27;13:24&#x27;, b&#x27;21:19&#x27;,\n",
       "       b&#x27;03:44&#x27;, b&#x27;11:29&#x27;, b&#x27;18:57&#x27;, b&#x27;03:59&#x27;, b&#x27;11:06&#x27;, b&#x27;17:24&#x27;, b&#x27;00:38&#x27;,\n",
       "       b&#x27;12:31&#x27;, b&#x27;18:12&#x27;, b&#x27;23:57&#x27;, b&#x27;05:34&#x27;, b&#x27;11:17&#x27;, b&#x27;16:56&#x27;, b&#x27;22:41&#x27;,\n",
       "       b&#x27;04:15&#x27;, b&#x27;09:59&#x27;, b&#x27;15:33&#x27;, b&#x27;21:15&#x27;, b&#x27;02:54&#x27;, b&#x27;08:29&#x27;, b&#x27;14:10&#x27;,\n",
       "       b&#x27;19:48&#x27;, b&#x27;01:24&#x27;, b&#x27;06:58&#x27;, b&#x27;12:39&#x27;, b&#x27;18:26&#x27;, b&#x27;00:20&#x27;, b&#x27;15:17&#x27;,\n",
       "       b&#x27;21:37&#x27;, b&#x27;05:02&#x27;, b&#x27;13:52&#x27;, b&#x27;21:39&#x27;, b&#x27;03:54&#x27;, b&#x27;10:13&#x27;, b&#x27;18:07&#x27;,\n",
       "       b&#x27;04:12&#x27;, b&#x27;11:14&#x27;, b&#x27;18:39&#x27;, b&#x27;04:28&#x27;, b&#x27;17:32&#x27;, b&#x27;03:09&#x27;, b&#x27;11:58&#x27;,\n",
       "       b&#x27;21:40&#x27;, b&#x27;04:46&#x27;, b&#x27;11:28&#x27;, b&#x27;17:13&#x27;, b&#x27;22:58&#x27;, b&#x27;04:27&#x27;, b&#x27;10:08&#x27;,\n",
       "       b&#x27;15:49&#x27;, b&#x27;21:30&#x27;, b&#x27;03:10&#x27;, b&#x27;08:54&#x27;, b&#x27;14:30&#x27;, b&#x27;20:11&#x27;, b&#x27;01:50&#x27;,\n",
       "       b&#x27;07:27&#x27;, b&#x27;13:07&#x27;, b&#x27;18:47&#x27;, b&#x27;00:27&#x27;, b&#x27;06:14&#x27;, b&#x27;12:11&#x27;, b&#x27;01:01&#x27;,\n",
       "       b&#x27;14:01&#x27;, b&#x27;02:55&#x27;, b&#x27;15:52&#x27;, b&#x27;05:08&#x27;, b&#x27;14:58&#x27;, b&#x27;22:26&#x27;, b&#x27;06:43&#x27;,\n",
       "       b&#x27;13:38&#x27;, b&#x27;23:40&#x27;, b&#x27;07:07&#x27;, b&#x27;15:05&#x27;, b&#x27;21:37&#x27;, b&#x27;04:44&#x27;, b&#x27;11:36&#x27;,\n",
       "       b&#x27;19:04&#x27;, b&#x27;04:23&#x27;, b&#x27;11:43&#x27;, b&#x27;19:03&#x27;, b&#x27;00:41&#x27;, b&#x27;06:23&#x27;, b&#x27;12:00&#x27;,\n",
       "       b&#x27;17:43&#x27;, b&#x27;23:28&#x27;, b&#x27;05:19&#x27;, b&#x27;10:48&#x27;, b&#x27;16:18&#x27;, b&#x27;21:52&#x27;, b&#x27;03:41&#x27;,\n",
       "       b&#x27;09:22&#x27;, b&#x27;15:01&#x27;, b&#x27;20:36&#x27;, b&#x27;02:15&#x27;, b&#x27;07:58&#x27;, b&#x27;13:41&#x27;, b&#x27;19:29&#x27;,\n",
       "       b&#x27;01:06&#x27;, b&#x27;14:14&#x27;, b&#x27;12:01&#x27;, b&#x27;18:38&#x27;, b&#x27;01:11&#x27;, b&#x27;07:28&#x27;, b&#x27;13:47&#x27;,\n",
       "       b&#x27;20:20&#x27;, b&#x27;03:19&#x27;, b&#x27;13:33&#x27;, b&#x27;20:59&#x27;, b&#x27;04:01&#x27;, b&#x27;10:12&#x27;, b&#x27;16:33&#x27;,\n",
       "       b&#x27;22:43&#x27;, b&#x27;05:05&#x27;, b&#x27;11:15&#x27;, b&#x27;18:20&#x27;, b&#x27;01:49&#x27;, b&#x27;07:59&#x27;, b&#x27;13:32&#x27;,\n",
       "       b&#x27;19:17&#x27;, b&#x27;00:53&#x27;, b&#x27;06:37&#x27;, b&#x27;12:24&#x27;, b&#x27;18:10&#x27;, b&#x27;23:39&#x27;, b&#x27;05:10&#x27;,\n",
       "       b&#x27;10:57&#x27;, b&#x27;16:46&#x27;, b&#x27;22:30&#x27;, b&#x27;04:14&#x27;, b&#x27;10:09&#x27;, b&#x27;16:05&#x27;, b&#x27;05:04&#x27;,\n",
       "       b&#x27;15:01&#x27;, b&#x27;21:44&#x27;, b&#x27;04:36&#x27;, b&#x27;12:41&#x27;, b&#x27;19:21&#x27;, b&#x27;01:33&#x27;], dtype=&#x27;|S5&#x27;)</pre></div></li><li class='xr-var-item'><div class='xr-var-name'><span>Parameters</span></div><div class='xr-var-dims'>(NPARAMETER)</div><div class='xr-var-dtype'>|S19</div><div class='xr-var-preview xr-preview'>...</div><input id='attrs-238a9ad5-2420-4500-9c71-3d0bcca24dfe' class='xr-var-attrs-in' type='checkbox' ><label for='attrs-238a9ad5-2420-4500-9c71-3d0bcca24dfe' title='Show/Hide attributes'><svg class='icon xr-icon-file-text2'><use xlink:href='#icon-file-text2'></use></svg></label><input id='data-c9f47068-b9c8-45db-8a2a-de686018108f' class='xr-var-data-in' type='checkbox'><label for='data-c9f47068-b9c8-45db-8a2a-de686018108f' title='Show/Hide data repr'><svg class='icon xr-icon-database'><use xlink:href='#icon-database'></use></svg></label><div class='xr-var-attrs'><dl class='xr-attrs'><dt><span>NOTES :</span></dt><dd>Parameters is not a FloatViz variable. Parameters lists parameters in the original FloatViz file, in the same column order. JULD is not a variable in the original FloatViz file.</dd></dl></div><div class='xr-var-data'><pre>array([b&#x27;Cruise             &#x27;, b&#x27;Station            &#x27;, b&#x27;Type               &#x27;,\n",
       "       b&#x27;mon_day_yr         &#x27;, b&#x27;hh_mm              &#x27;, b&#x27;Lon                &#x27;,\n",
       "       b&#x27;Lat                &#x27;, b&#x27;QF                 &#x27;, b&#x27;Pressure           &#x27;,\n",
       "       b&#x27;QF                 &#x27;, b&#x27;Temperature        &#x27;, b&#x27;QF                 &#x27;,\n",
       "       b&#x27;Salinity           &#x27;, b&#x27;QF                 &#x27;, b&#x27;Sigma_theta        &#x27;,\n",
       "       b&#x27;QF                 &#x27;, b&#x27;Depth              &#x27;, b&#x27;QF                 &#x27;,\n",
       "       b&#x27;Oxygen             &#x27;, b&#x27;QF                 &#x27;, b&#x27;OxygenSat          &#x27;,\n",
       "       b&#x27;QF                 &#x27;, b&#x27;Nitrate            &#x27;, b&#x27;QF                 &#x27;,\n",
       "       b&#x27;Chl_a              &#x27;, b&#x27;QF                 &#x27;, b&#x27;Chl_a_corr         &#x27;,\n",
       "       b&#x27;QF                 &#x27;, b&#x27;b_bp700            &#x27;, b&#x27;QF                 &#x27;,\n",
       "       b&#x27;b_bp_corr          &#x27;, b&#x27;QF                 &#x27;, b&#x27;POC                &#x27;,\n",
       "       b&#x27;QF                 &#x27;, b&#x27;pHinsitu           &#x27;, b&#x27;QF                 &#x27;,\n",
       "       b&#x27;pH25C              &#x27;, b&#x27;QF                 &#x27;, b&#x27;TALK_MLR           &#x27;,\n",
       "       b&#x27;QF                 &#x27;, b&#x27;DIC_MLR            &#x27;, b&#x27;QF                 &#x27;,\n",
       "       b&#x27;pCO2_MLR           &#x27;, b&#x27;QF                 &#x27;, b&#x27;JULD               &#x27;,\n",
       "       b&#x27;REFERENCE_DATE_TIME&#x27;], dtype=&#x27;|S19&#x27;)</pre></div></li><li class='xr-var-item'><div class='xr-var-name'><span>JULD</span></div><div class='xr-var-dims'>(N_PROF)</div><div class='xr-var-dtype'>datetime64[ns]</div><div class='xr-var-preview xr-preview'>...</div><input id='attrs-b14859ad-022a-4c4c-986d-72f338c709e6' class='xr-var-attrs-in' type='checkbox' ><label for='attrs-b14859ad-022a-4c4c-986d-72f338c709e6' title='Show/Hide attributes'><svg class='icon xr-icon-file-text2'><use xlink:href='#icon-file-text2'></use></svg></label><input id='data-a3cba636-9f40-4288-8864-8f554b4d2545' class='xr-var-data-in' type='checkbox'><label for='data-a3cba636-9f40-4288-8864-8f554b4d2545' title='Show/Hide data repr'><svg class='icon xr-icon-database'><use xlink:href='#icon-database'></use></svg></label><div class='xr-var-attrs'><dl class='xr-attrs'><dt><span>long_name :</span></dt><dd>Julian day (UTC) of the station relative to REFERENCE_DATE_TIME</dd><dt><span>standard_name :</span></dt><dd>time</dd><dt><span>conventions :</span></dt><dd>Relative julian days with decimal part (as parts of day)</dd><dt><span>NOTES :</span></dt><dd>JULD not a FloatViz variable,  but added for convenience and for similarity to ARGO-type files.</dd></dl></div><div class='xr-var-data'><pre>array([&#x27;2015-01-22T05:14:00.000003584&#x27;, &#x27;2015-02-01T16:13:00.000000512&#x27;,\n",
       "       &#x27;2015-02-12T00:22:59.999998208&#x27;, &#x27;2015-02-22T09:33:59.999999232&#x27;,\n",
       "       &#x27;2015-03-04T18:59:59.999996672&#x27;, &#x27;2015-03-15T01:54:00.000004608&#x27;,\n",
       "       &#x27;2015-03-25T10:07:00.000001792&#x27;, &#x27;2015-04-04T18:14:00.000000256&#x27;,\n",
       "       &#x27;2015-04-15T02:35:59.999995392&#x27;, &#x27;2015-04-25T11:37:59.999998208&#x27;,\n",
       "       &#x27;2015-05-05T22:30:59.999996416&#x27;, &#x27;2015-05-16T08:15:59.999996416&#x27;,\n",
       "       &#x27;2015-05-26T16:10:00.000001024&#x27;, &#x27;2015-06-05T22:13:00.000000512&#x27;,\n",
       "       &#x27;2015-06-16T09:16:59.999999488&#x27;, &#x27;2015-06-26T14:57:00.000000768&#x27;,\n",
       "       &#x27;2015-07-06T20:25:00.000004352&#x27;, &#x27;2015-07-17T01:50:59.999995392&#x27;,\n",
       "       &#x27;2015-07-27T07:27:00.000000768&#x27;, &#x27;2015-08-06T13:10:59.999997440&#x27;,\n",
       "       &#x27;2015-08-16T18:42:59.999997184&#x27;, &#x27;2015-08-27T00:22:59.999998208&#x27;,\n",
       "       &#x27;2015-09-06T05:54:59.999997696&#x27;, &#x27;2015-09-16T11:31:59.999999488&#x27;,\n",
       "       &#x27;2015-09-26T17:04:59.999995648&#x27;, &#x27;2015-10-06T22:50:59.999995392&#x27;,\n",
       "       &#x27;2015-10-17T04:36:59.999995136&#x27;, &#x27;2015-10-27T10:18:00.000002560&#x27;,\n",
       "       &#x27;2015-11-06T15:47:00.000002816&#x27;, &#x27;2015-11-16T21:14:00.000000256&#x27;,\n",
       "       &#x27;2015-11-27T02:51:59.999998464&#x27;, &#x27;2015-12-07T08:23:00.000001536&#x27;,\n",
       "       &#x27;2015-12-17T14:12:59.999997184&#x27;, &#x27;2015-12-27T20:08:00.000004864&#x27;,\n",
       "       &#x27;2016-01-07T14:37:00.000001792&#x27;, &#x27;2016-01-17T22:15:00.000003328&#x27;,\n",
       "       &#x27;2016-01-28T07:33:59.999995648&#x27;, &#x27;2016-02-07T14:15:59.999996416&#x27;,\n",
       "       &#x27;2016-02-17T20:43:00.000000512&#x27;, &#x27;2016-02-28T06:50:00.000002304&#x27;,\n",
       "       &#x27;2016-03-09T13:24:00.000001280&#x27;, &#x27;2016-03-19T21:19:00.000002560&#x27;,\n",
       "       &#x27;2016-03-30T03:44:00.000003584&#x27;, &#x27;2016-04-09T11:29:00.000000256&#x27;,\n",
       "       &#x27;2016-04-19T18:56:59.999997440&#x27;, &#x27;2016-04-30T03:59:00.000000256&#x27;,\n",
       "       &#x27;2016-05-10T11:06:00.000002048&#x27;, &#x27;2016-05-20T17:23:59.999997952&#x27;,\n",
       "       &#x27;2016-05-31T00:38:00.000004864&#x27;, &#x27;2016-06-10T12:30:59.999999744&#x27;,\n",
       "       &#x27;2016-06-20T18:11:59.999997440&#x27;, &#x27;2016-06-30T23:57:00.000000768&#x27;,\n",
       "       &#x27;2016-07-11T05:34:00.000002560&#x27;, &#x27;2016-07-21T11:17:00.000002816&#x27;,\n",
       "       &#x27;2016-07-31T16:55:59.999997440&#x27;, &#x27;2016-08-10T22:41:00.000000768&#x27;,\n",
       "       &#x27;2016-08-21T04:15:00.000003328&#x27;, &#x27;2016-08-31T09:59:00.000000256&#x27;,\n",
       "       &#x27;2016-09-10T15:33:00.000002560&#x27;, &#x27;2016-09-20T21:14:59.999996672&#x27;,\n",
       "       &#x27;2016-10-01T02:54:00.000001280&#x27;, &#x27;2016-10-11T08:29:00.000000256&#x27;,\n",
       "       &#x27;2016-10-21T14:09:59.999997696&#x27;, &#x27;2016-10-31T19:47:59.999995904&#x27;,\n",
       "       &#x27;2016-11-11T01:24:00.000001280&#x27;, &#x27;2016-11-21T06:58:00.000003840&#x27;,\n",
       "       &#x27;2016-12-01T12:39:00.000001280&#x27;, &#x27;2016-12-11T18:25:59.999997440&#x27;,\n",
       "       &#x27;2016-12-22T00:19:59.999998976&#x27;, &#x27;2017-01-01T15:16:59.999999488&#x27;,\n",
       "       &#x27;2017-01-11T21:36:59.999998464&#x27;, &#x27;2017-01-22T05:01:59.999996160&#x27;,\n",
       "       &#x27;2017-02-01T13:52:00.000001792&#x27;, &#x27;2017-02-11T21:39:00.000001280&#x27;,\n",
       "       &#x27;2017-02-22T03:53:59.999997952&#x27;, &#x27;2017-03-04T10:13:00.000000512&#x27;,\n",
       "       &#x27;2017-03-14T18:06:59.999995136&#x27;, &#x27;2017-03-25T04:12:00.000004096&#x27;,\n",
       "       &#x27;2017-04-04T11:14:00.000003584&#x27;, &#x27;2017-04-14T18:39:00.000001280&#x27;,\n",
       "       &#x27;2017-04-25T04:27:59.999997184&#x27;, &#x27;2017-05-05T17:31:59.999999488&#x27;,\n",
       "       &#x27;2017-05-16T03:08:59.999997952&#x27;, &#x27;2017-05-26T11:57:59.999997184&#x27;,\n",
       "       &#x27;2017-06-05T21:39:59.999997696&#x27;, &#x27;2017-06-16T04:46:00.000003072&#x27;,\n",
       "       &#x27;2017-06-26T11:28:00.000003840&#x27;, &#x27;2017-07-06T17:12:59.999997184&#x27;,\n",
       "       &#x27;2017-07-16T22:58:00.000000512&#x27;, &#x27;2017-07-27T04:27:00.000000768&#x27;,\n",
       "       &#x27;2017-08-06T10:07:59.999998208&#x27;, &#x27;2017-08-16T15:48:59.999995648&#x27;,\n",
       "       &#x27;2017-08-26T21:30:00.000003328&#x27;, &#x27;2017-09-06T03:10:00.000004352&#x27;,\n",
       "       &#x27;2017-09-16T08:54:00.000001280&#x27;, &#x27;2017-09-26T14:29:59.999996672&#x27;,\n",
       "       &#x27;2017-10-06T20:11:00.000004352&#x27;, &#x27;2017-10-17T01:49:59.999998976&#x27;,\n",
       "       &#x27;2017-10-27T07:27:00.000000768&#x27;, &#x27;2017-11-06T13:07:00.000001792&#x27;,\n",
       "       &#x27;2017-11-16T18:47:00.000002816&#x27;, &#x27;2017-11-27T00:27:00.000004096&#x27;,\n",
       "       &#x27;2017-12-07T06:14:00.000000256&#x27;, &#x27;2017-12-17T12:11:00.000000768&#x27;,\n",
       "       &#x27;2017-12-28T01:01:00.000003072&#x27;, &#x27;2018-01-07T14:00:59.999999744&#x27;,\n",
       "       &#x27;2018-01-18T02:54:59.999997696&#x27;, &#x27;2018-01-28T15:51:59.999995136&#x27;,\n",
       "       &#x27;2018-02-08T05:08:00.000004864&#x27;, &#x27;2018-02-18T14:57:59.999997184&#x27;,\n",
       "       &#x27;2018-02-28T22:26:00.000004352&#x27;, &#x27;2018-03-11T06:42:59.999997184&#x27;,\n",
       "       &#x27;2018-03-21T13:38:00.000001536&#x27;, &#x27;2018-03-31T23:40:00.000001024&#x27;,\n",
       "       &#x27;2018-04-11T07:07:00.000001792&#x27;, &#x27;2018-04-21T15:05:00.000002304&#x27;,\n",
       "       &#x27;2018-05-01T21:36:59.999998464&#x27;, &#x27;2018-05-12T04:44:00.000000256&#x27;,\n",
       "       &#x27;2018-05-22T11:35:59.999995392&#x27;, &#x27;2018-06-01T19:04:00.000002560&#x27;,\n",
       "       &#x27;2018-06-12T04:23:00.000004864&#x27;, &#x27;2018-06-22T11:43:00.000000512&#x27;,\n",
       "       &#x27;2018-07-02T19:02:59.999995904&#x27;, &#x27;2018-07-13T00:41:00.000004352&#x27;,\n",
       "       &#x27;2018-07-23T06:22:59.999998208&#x27;, &#x27;2018-08-02T12:00:00.000000000&#x27;,\n",
       "       &#x27;2018-08-12T17:43:00.000000512&#x27;, &#x27;2018-08-22T23:28:00.000003840&#x27;,\n",
       "       &#x27;2018-09-02T05:18:59.999995648&#x27;, &#x27;2018-09-12T10:47:59.999995904&#x27;,\n",
       "       &#x27;2018-09-22T16:18:00.000002560&#x27;, &#x27;2018-10-02T21:51:59.999995136&#x27;,\n",
       "       &#x27;2018-10-13T03:41:00.000004352&#x27;, &#x27;2018-10-23T09:22:00.000001792&#x27;,\n",
       "       &#x27;2018-11-02T15:00:59.999996416&#x27;, &#x27;2018-11-12T20:35:59.999995392&#x27;,\n",
       "       &#x27;2018-11-23T02:15:00.000000000&#x27;, &#x27;2018-12-03T07:58:00.000000512&#x27;,\n",
       "       &#x27;2018-12-13T13:41:00.000000768&#x27;, &#x27;2018-12-23T19:29:00.000003584&#x27;,\n",
       "       &#x27;2019-01-03T01:05:59.999995392&#x27;, &#x27;2019-01-13T14:14:00.000003584&#x27;,\n",
       "       &#x27;2019-01-24T12:00:59.999996416&#x27;, &#x27;2019-02-03T18:38:00.000004864&#x27;,\n",
       "       &#x27;2019-02-14T01:10:59.999997440&#x27;, &#x27;2019-02-24T07:27:59.999997184&#x27;,\n",
       "       &#x27;2019-03-06T13:46:59.999999488&#x27;, &#x27;2019-03-16T20:20:00.000002304&#x27;,\n",
       "       &#x27;2019-03-27T03:19:00.000002560&#x27;, &#x27;2019-04-06T13:32:59.999999232&#x27;,\n",
       "       &#x27;2019-04-16T20:59:00.000003584&#x27;, &#x27;2019-04-27T04:01:00.000003072&#x27;,\n",
       "       &#x27;2019-05-07T10:12:00.000004096&#x27;, &#x27;2019-05-17T16:32:59.999999232&#x27;,\n",
       "       &#x27;2019-05-27T22:43:00.000003840&#x27;, &#x27;2019-06-07T05:04:59.999995648&#x27;,\n",
       "       &#x27;2019-06-17T11:15:00.000000000&#x27;, &#x27;2019-06-27T18:19:59.999998976&#x27;,\n",
       "       &#x27;2019-07-08T01:49:00.000002560&#x27;, &#x27;2019-07-18T07:58:59.999996928&#x27;,\n",
       "       &#x27;2019-07-28T13:32:00.000002816&#x27;, &#x27;2019-08-07T19:16:59.999996160&#x27;,\n",
       "       &#x27;2019-08-18T00:53:00.000001536&#x27;, &#x27;2019-08-28T06:36:59.999998464&#x27;,\n",
       "       &#x27;2019-09-07T12:24:00.000004608&#x27;, &#x27;2019-09-17T18:10:00.000004352&#x27;,\n",
       "       &#x27;2019-09-27T23:39:00.000004608&#x27;, &#x27;2019-10-08T05:09:59.999997696&#x27;,\n",
       "       &#x27;2019-10-18T10:57:00.000004096&#x27;, &#x27;2019-10-28T16:46:00.000003072&#x27;,\n",
       "       &#x27;2019-11-07T22:30:00.000000000&#x27;, &#x27;2019-11-18T04:13:59.999996928&#x27;,\n",
       "       &#x27;2019-11-28T10:09:00.000004608&#x27;, &#x27;2019-12-08T16:04:59.999998976&#x27;,\n",
       "       &#x27;2019-12-19T05:03:59.999999232&#x27;, &#x27;2019-12-29T15:00:59.999996416&#x27;,\n",
       "       &#x27;2020-01-08T21:44:00.000003584&#x27;, &#x27;2020-01-19T04:35:59.999998720&#x27;,\n",
       "       &#x27;2020-01-29T12:41:00.000004352&#x27;, &#x27;2020-02-08T19:21:00.000002048&#x27;,\n",
       "       &#x27;2020-02-19T01:32:59.999999232&#x27;], dtype=&#x27;datetime64[ns]&#x27;)</pre></div></li><li class='xr-var-item'><div class='xr-var-name'><span>REFERENCE_DATE_TIME</span></div><div class='xr-var-dims'>()</div><div class='xr-var-dtype'>object</div><div class='xr-var-preview xr-preview'>...</div><input id='attrs-82bb4c75-a2fd-4bc6-a5a5-2e2bbb03e0c4' class='xr-var-attrs-in' type='checkbox' ><label for='attrs-82bb4c75-a2fd-4bc6-a5a5-2e2bbb03e0c4' title='Show/Hide attributes'><svg class='icon xr-icon-file-text2'><use xlink:href='#icon-file-text2'></use></svg></label><input id='data-631197fc-935f-419c-99b2-7502084580bd' class='xr-var-data-in' type='checkbox'><label for='data-631197fc-935f-419c-99b2-7502084580bd' title='Show/Hide data repr'><svg class='icon xr-icon-database'><use xlink:href='#icon-database'></use></svg></label><div class='xr-var-attrs'><dl class='xr-attrs'><dt><span>long_name :</span></dt><dd>Date of reference for Julian days</dd><dt><span>conventions :</span></dt><dd>YYYYMMDDHHMISS</dd><dt><span>NOTES :</span></dt><dd>REFERENCE_DATE_TIME not a FloatViz variable,  but added for convenience and for similarity to ARGO-type files.</dd></dl></div><div class='xr-var-data'><pre>array(b&#x27;19500101000000&#x27;, dtype=object)</pre></div></li></ul></div></li><li class='xr-section-item'><input id='section-3f17eb8f-d238-4f5a-b6be-be44258e5c7a' class='xr-section-summary-in' type='checkbox'  checked><label for='section-3f17eb8f-d238-4f5a-b6be-be44258e5c7a' class='xr-section-summary' >Attributes: <span>(1)</span></label><div class='xr-section-inline-details'></div><div class='xr-section-details'><dl class='xr-attrs'><dt><span>Comments :</span></dt><dd>\n",
       "//0\n",
       "//&lt;Encoding&gt;UTF-8&lt;/Encoding&gt;\n",
       "//File updated on 05/01/2021 05:54\n",
       "//!! ADJUSTED DATA FILE !!\n",
       "//WMO ID: 5904397\n",
       "//Institution ID: 9125\n",
       "//MBARI ID: ua9125\n",
       "//Project Name: SOCCOM\n",
       "//Region: SO\n",
       "//No missing float profiles\n",
       "//Missing Float position interpolated for station(s): 15 16 17 18 19 20 21 22 23 24 25 26 27 28 29 30 31 32 33 50 51 52 53 54 55 56 57 58 59 60 61 62 63 64 65 66 67 68 87 88 89 90 91 92 93 94 95 96 97 98 99 100 101 102 103 123 124 125 126 127 128 129 130 131 132 133 134 135 136 137 138 139 140 160 161 162 163 164 165 166 167 168 169 170 171 172 173 \n",
       "//Latitude quality flag = 4 for interpolated float positions\n",
       "//Missing Float data detected for adjusted station(s): 14 36 37 38 39 40 41 42 43 44 45 46 47 48 49 50 51 52 53 54 55 56 57 58 59 60 61 62 63 64 65 66 67 68 69 70 71 72 73 74 75 76 77 78 79 80 81 82 83 84 85 86 87 88 89 90 91 92 93 94 95 96 97 98 99 100 101 102 103 104 105 106 107 108 109 110 111 112 113 114 115 116 117 118 119 120 121 122 123 124 125 126 127 128 129 130 131 132 133 134 135 136 137 138 139 140 141 142 143 144 145 146 147 148 149 150 151 152 153 154 155 156 157 158 159 160 161 162 163 164 165 166 167 168 169 170 171 172 173 174 175 176 177 178 179 180 181 \n",
       "//\n",
       "//SPECIAL NOTICE:\n",
       "//pH data for this float is bad beyond cycle 36.\n",
       "//\n",
       "//FLOAT VARIABLES:\n",
       "//Variable Sensor Serial number Comment\n",
       "//Pressure[dbar] Sbe41cp 5387 \n",
       "//Temperature[Â°C] Sbe41cp 5387 \n",
       "//Salinity[pss] Sbe41cp 5387 \n",
       "//Sigma_theta[kg/m^3]   Potential density at the sea surface\n",
       "//Depth[m]   Depth calculated from pressure and latitude\n",
       "//Oxygen[Âµmol/kg] Aanderaa 4330 1463 \n",
       "//OxygenSat[%]   Calculation assumes atmospheric pressure= 1013.25 mbar\n",
       "//Nitrate[Âµmol/kg] ISUS Lamp#L1.C01.6702 Spec#065 APEX Equitech probe 20130905RR10.04 MBARI ARGO float#0105 \n",
       "//Chl_a[mg/m^3] FLBBAP2 3309 \n",
       "//Chl_a_corr[mg/m^3] FLBBAP2 3309 See: Boss, E.B. and N. HaÃ«ntjens, 2016. http://soccom.princeton.edu/sites/default/files/files/SOCCOM_2016-1_Bio-optics-primer.pdf\n",
       "//b_bp700[1/m] FLBBAP2 3309 \n",
       "//b_bp_corr[1/m]   \n",
       "//POC[mmol/m^3] FLBBAP2 3309 See: Boss, E.B. and N. HaÃ«ntjens, 2016. http://soccom.princeton.edu/sites/default/files/files/SOCCOM_2016-1_Bio-optics-primer.pdf\n",
       "//pHinsitu[Total] Durafet 0050a \n",
       "//pH25C[Total] Durafet 0050a estimated with CO2SYS(TALK_LIAR,pHinsitu) for Matlab  see note below\n",
       "//TALK_MLR[Âµmol/kg]   TALK_MLR  = Alkalinity estimated from Multiple Linear Regression algorithim for data south of 45S (Williams et al., 2017)\n",
       "//DIC_MLR[Âµmol/kg]   estimated with CO2SYS(TALK_MLR,pHinsitu) for Matlab (see note below)\n",
       "//pCO2_MLR[Âµatm]   estimated with CO2SYS(TALK_MLR,biased pHinsitu) for Matlab (see note below)\n",
       "//\n",
       "//NOTE ON CO2SYS CARBONATE SYSTEM CALCULATIONS:\n",
       "//All carbonate system variables calculated with CO2SYS for Matlab\n",
       "//(van Heuven et al., 2011, doi: 10.3334/CDIAC/otg.CO2SYS_MATLAB_v1.1)\n",
       "//used the following conditions: pH was reported on the total scale.\n",
       "//K1 and K2 dissociation constants were from Lueker et al., 2000, doi:\n",
       "//10.1016/S0304-4203(00)00022-0. The KSO4 dissociation constant was\n",
       "//from Dickson, 1990, doi: 10.1016/0021-9614(90)90074-Z. The KF dissociation\n",
       "//constant was from Perez and Fraga 1987, doi: 10.1016/0304-4203(87)90036-3.\n",
       "//The borate to salinity ratio was from Lee et al., 2010,\n",
       "//doi:10.1016/j.gca.2009.12.027. Silicate and Phosphate were not\n",
       "//measured by the float, but estimates based on Redfieldian ratios improved\n",
       "//the carbonate system estimates. If a nitrate value was considered to\n",
       "//be of good quality silicate = nitrate*2.5 and phosphate = nitrate/16,\n",
       "//otherwise the best estimate for both was considered to be 0. When pCO2\n",
       "//was estimated from TALK_MLR and pHinsitu, a bias was first added to pHinsitu\n",
       "//following Williams et al., 2017, doi: https://doi.org/10.1002/2016GB005541 , section 3.4, equation 3.\n",
       "//\n",
       "//NOTE ON Chl_a &amp; Chl_a_corr [mg/m^3] CONCENTRATION:\n",
       "//There is community-established calibration bias of 2 for the WET Labs 413 ECO-series fluorometers\n",
       "//(Roesler et al, 2017, doi: 10.1002/lom3.10185).\n",
       "//Chl_a has been recalculated using in situ measured dark counts. Chl_a is then divided by the Roesler factor of 2.\n",
       "//Lastly, profiles with sun elevaltion &gt; 0 are corrected for NPQ (Xing et al, 2012, doi: 10.4319/lom.2012.10.483)\n",
       "//with uncorrected spikes (raw-filtered data) added back to the corrected profile.\n",
       "//Chl_a_corr uses a modified Xing approach to correct for NPQ: the reference depth is the\n",
       "//shallower of the mixed layer depth or the 1 percent light depth (Kd based on \n",
       "//Kim et al., 2015, doi:10.5194/bg-12-5119-2015).No spike profile added.\n",
       "//Note that all NPQ-corrected data receives an Argo quality flag of 5 (&quot;value changed&quot;)\n",
       "//and an ODV-style quality flag of 4 (&quot;questionable&quot;).\n",
       "//South of 30S a slope correction of 6 was used(E. Boss unpublished data).\n",
       "//This correction scheme was decided upon at the 18th Argo Data Management Team \n",
       "//meeting in Hamburg, Germany (Nov, 2017), and is subject to change as research on optimal \n",
       "//correction methods for float data from FLBB sensors continues.\n",
       "////\n",
       "//QUALITY CONTROLLED DATA CORRECTIONS:\n",
       "//Measurement Station Gain Offset Drift\n",
       "//Oxygen 1 1.1219 0.0000 0.0000\n",
       "//Nitrate 1 1.0000 -0.3006 -56.6269\n",
       "//Nitrate 3 1.0000 -2.2707 0.1380\n",
       "//Nitrate 35 1.0000 0.3493 -40.8955\n",
       "//Nitrate 37 1.0000 -1.3109 -1.1798\n",
       "//Nitrate 75 1.0000 -2.5481 -0.4009\n",
       "//Nitrate 181 1.0000 -3.8942 0.0000\n",
       "//pH 1 1.0000 -0.1614 0.0000\n",
       "//pH 2 1.0000 -0.2617 0.7217\n",
       "//pH 5 1.0000 -0.2141 -0.0874\n",
       "//pH 14 1.0000 -0.2259 -0.0455\n",
       "//pH 30 1.0000 -0.2402 -0.2240\n",
       "//pH 35 1.0000 -0.2570 0.0000\n",
       "//\n",
       "//Missing data value = -1e10\n",
       "//Data quality flags: 0=Good, 4=Questionable, 8=Bad, 1=Missing or not inspected \n",
       "//Note: all timestamps are in GMT. </dd></dl></div></li></ul></div></div>"
      ],
      "text/plain": [
       "<xarray.Dataset>\n",
       "Dimensions:              (NPARAMETER: 46, N_LEVELS: 557, N_PROF: 181)\n",
       "Dimensions without coordinates: NPARAMETER, N_LEVELS, N_PROF\n",
       "Data variables: (12/66)\n",
       "    Cruise               |S11 ...\n",
       "    Station              (N_PROF) int32 ...\n",
       "    Lon                  (N_PROF) float64 ...\n",
       "    Lat                  (N_PROF) float64 ...\n",
       "    Lat_QF               (N_PROF) |S1 ...\n",
       "    Lat_QFA              (N_PROF) float64 ...\n",
       "    ...                   ...\n",
       "    Type                 |S1 ...\n",
       "    mon_day_yr           (N_PROF) |S10 ...\n",
       "    hh_mm                (N_PROF) |S5 ...\n",
       "    Parameters           (NPARAMETER) |S19 ...\n",
       "    JULD                 (N_PROF) datetime64[ns] ...\n",
       "    REFERENCE_DATE_TIME  object ...\n",
       "Attributes:\n",
       "    Comments:  \\n//0\\n//<Encoding>UTF-8</Encoding>\\n//File updated on 05/01/2..."
      ]
     },
     "execution_count": 55,
     "metadata": {},
     "output_type": "execute_result"
    }
   ],
   "source": [
    "ds=xr.open_dataset(files[35])\n",
    "ds"
   ]
  },
  {
   "cell_type": "markdown",
   "id": "ac0e3ed3-33eb-4135-b857-6e565d732594",
   "metadata": {},
   "source": [
    "## Lon Bins"
   ]
  },
  {
   "cell_type": "code",
   "execution_count": 51,
   "id": "3c9d191a-bdd7-45ab-a7f8-dba824b99218",
   "metadata": {},
   "outputs": [
    {
     "ename": "TypeError",
     "evalue": "'DataArray' object is not callable",
     "output_type": "error",
     "traceback": [
      "\u001b[0;31m---------------------------------------------------------------------------\u001b[0m",
      "\u001b[0;31mTypeError\u001b[0m                                 Traceback (most recent call last)",
      "\u001b[0;32m<ipython-input-51-594dad2b515f>\u001b[0m in \u001b[0;36m<module>\u001b[0;34m\u001b[0m\n\u001b[1;32m     16\u001b[0m \u001b[0;32mfor\u001b[0m \u001b[0mi\u001b[0m \u001b[0;32min\u001b[0m \u001b[0mrange\u001b[0m \u001b[0;34m(\u001b[0m\u001b[0;36m0\u001b[0m\u001b[0;34m,\u001b[0m\u001b[0mlen\u001b[0m\u001b[0;34m(\u001b[0m\u001b[0mfiles\u001b[0m\u001b[0;34m)\u001b[0m\u001b[0;34m)\u001b[0m\u001b[0;34m:\u001b[0m\u001b[0;34m\u001b[0m\u001b[0;34m\u001b[0m\u001b[0m\n\u001b[1;32m     17\u001b[0m     \u001b[0mds\u001b[0m\u001b[0;34m=\u001b[0m\u001b[0mxr\u001b[0m\u001b[0;34m.\u001b[0m\u001b[0mopen_dataset\u001b[0m\u001b[0;34m(\u001b[0m\u001b[0mfiles\u001b[0m\u001b[0;34m[\u001b[0m\u001b[0mi\u001b[0m\u001b[0;34m]\u001b[0m\u001b[0;34m)\u001b[0m\u001b[0;34m\u001b[0m\u001b[0;34m\u001b[0m\u001b[0m\n\u001b[0;32m---> 18\u001b[0;31m     \u001b[0;32mif\u001b[0m \u001b[0mds\u001b[0m\u001b[0;34m.\u001b[0m\u001b[0mLon\u001b[0m\u001b[0;34m(\u001b[0m\u001b[0;34m)\u001b[0m \u001b[0;34m>=\u001b[0m\u001b[0;36m0\u001b[0m \u001b[0;32mand\u001b[0m \u001b[0mds\u001b[0m\u001b[0;34m.\u001b[0m\u001b[0mLon\u001b[0m\u001b[0;34m(\u001b[0m\u001b[0;34m)\u001b[0m \u001b[0;34m<=\u001b[0m\u001b[0;36m30\u001b[0m\u001b[0;34m:\u001b[0m\u001b[0;34m\u001b[0m\u001b[0;34m\u001b[0m\u001b[0m\n\u001b[0m\u001b[1;32m     19\u001b[0m         \u001b[0mBin1\u001b[0m\u001b[0;34m.\u001b[0m\u001b[0mappend\u001b[0m\u001b[0;34m(\u001b[0m\u001b[0mfiles\u001b[0m\u001b[0;34m[\u001b[0m\u001b[0mi\u001b[0m\u001b[0;34m]\u001b[0m\u001b[0;34m)\u001b[0m\u001b[0;34m\u001b[0m\u001b[0;34m\u001b[0m\u001b[0m\n\u001b[1;32m     20\u001b[0m     \u001b[0;32melif\u001b[0m \u001b[0mds\u001b[0m\u001b[0;34m.\u001b[0m\u001b[0mLon\u001b[0m\u001b[0;34m(\u001b[0m\u001b[0;34m)\u001b[0m \u001b[0;34m>=\u001b[0m\u001b[0;36m30\u001b[0m \u001b[0;32mand\u001b[0m \u001b[0mds\u001b[0m\u001b[0;34m.\u001b[0m\u001b[0mLon\u001b[0m\u001b[0;34m(\u001b[0m\u001b[0;34m)\u001b[0m \u001b[0;34m<=\u001b[0m\u001b[0;36m60\u001b[0m\u001b[0;34m:\u001b[0m\u001b[0;34m\u001b[0m\u001b[0;34m\u001b[0m\u001b[0m\n",
      "\u001b[0;31mTypeError\u001b[0m: 'DataArray' object is not callable"
     ]
    }
   ],
   "source": [
    "#Empty Lon Lists\n",
    "Bin1= []\n",
    "Bin2= []\n",
    "Bin3= []\n",
    "Bin4= []\n",
    "Bin5= []\n",
    "Bin6= []\n",
    "Bin7= []\n",
    "Bin8= []\n",
    "Bin9= []\n",
    "Bin10= []\n",
    "Bin11= []\n",
    "Bin12= []\n",
    "\n",
    "#For loop that will place floats into bins\n",
    "for i in range (0,len(files)):\n",
    "    ds=xr.open_dataset(files[i])\n",
    "    if ds.Lon.average() >=0 and ds.Lon.average() <=30:\n",
    "        Bin1.append(files[i]) \n",
    "    elif ds.Lon() >=30 and ds.Lon() <=60:\n",
    "        Bin2.append(files[i])\n",
    "    elif ds.Lon() >=60 and ds.Lon() <=90:\n",
    "        Bin3.append(files[i])\n",
    "    elif ds.Lon() >=90 and ds.Lon() <=120:\n",
    "        Bin4.append(files[i])\n",
    "    elif ds.Lon() >=120 and ds.Lon() <=150:\n",
    "        Bin5.append(files[i])\n",
    "    elif ds.Lon() >=150 and ds.Lon() <=180:\n",
    "        Bin6.append(files[i])\n",
    "    elif ds.Lon() >=180 and ds.Lon() <=210:\n",
    "        Bin7.append(files[i])\n",
    "    elif ds.Lon() >=210 and ds.Lon() <=240:\n",
    "        Bin8.append(files[i])\n",
    "    elif ds.Lon() >=240 and ds.Lon() <=270:\n",
    "        Bin9.append(files[i])\n",
    "    elif ds.Lon() >=270 and ds.Lon() <=300:\n",
    "        Bin10.append(files[i])\n",
    "    elif ds.Lon() >= 300 and ds.Lon() <=330:\n",
    "        Bin11.append(files[i])\n",
    "    elif ds.Lon() >=330 and ds.Lon() <=360:\n",
    "        Bin12.append(files[i])"
   ]
  },
  {
   "cell_type": "markdown",
   "id": "c2d6e832-a3d5-4a28-bc54-2369af9e0521",
   "metadata": {},
   "source": [
    "## Places valid floats into bins w/respet to their Lon Bin"
   ]
  },
  {
   "cell_type": "code",
   "execution_count": 21,
   "id": "62374c3d-6049-4961-8b59-ec29e446eb53",
   "metadata": {},
   "outputs": [],
   "source": [
    "Bin1=[]\n",
    "for i in range (0,len(files[i])):\n",
    "    ds=xr.open_dataset(files[i])\n",
    "    if ds.Lon.mean() >=0 and ds.Lon.mean() <=30:\n",
    "            if ds.pHinsitu.mean() >=0 and ds.pHinsitu.mean() <=14:\n",
    "                Bin1.append(files[i])\n",
    "Bin2=[]\n",
    "for i in range (0,len(files[i])):\n",
    "    ds=xr.open_dataset(files[i])\n",
    "    if ds.Lon.mean() >=30 and ds.Lon.mean() <=60:\n",
    "            if ds.pHinsitu.mean() >=0 and ds.pHinsitu.mean() <=14:\n",
    "                Bin2.append(files[i])\n",
    "Bin3=[]\n",
    "for i in range (0,len(files[i])):\n",
    "    ds=xr.open_dataset(files[i])\n",
    "    if ds.Lon.mean() >=60 and ds.Lon.mean() <=90:\n",
    "            if ds.pHinsitu.mean() >=0 and ds.pHinsitu.mean() <=14:\n",
    "                Bin3.append(files[i])\n",
    "Bin4=[]\n",
    "for i in range (0,len(files[i])):\n",
    "    ds=xr.open_dataset(files[i])\n",
    "    if ds.Lon.mean() >=90 and ds.Lon.mean() <=120:\n",
    "            if ds.pHinsitu.mean() >=0 and ds.pHinsitu.mean() <=14:\n",
    "                Bin4.append(files[i])\n",
    "Bin5=[]\n",
    "for i in range (0,len(files[i])):\n",
    "    ds=xr.open_dataset(files[i])\n",
    "    if ds.Lon.mean() >=120 and ds.Lon.mean() <=150:\n",
    "            if ds.pHinsitu.mean() >=0 and ds.pHinsitu.mean() <=14:\n",
    "                Bin5.append(files[i])\n",
    "Bin6=[]\n",
    "for i in range (0,len(files[i])):\n",
    "    ds=xr.open_dataset(files[i])\n",
    "    if ds.Lon.mean() >=150 and ds.Lon.mean() <=180:\n",
    "            if ds.pHinsitu.mean() >=0 and ds.pHinsitu.mean() <=14:\n",
    "                Bin6.append(files[i])\n",
    "Bin7=[]\n",
    "for i in range (0,len(files[i])):\n",
    "    ds=xr.open_dataset(files[i])\n",
    "    if ds.Lon.mean() >=180 and ds.Lon.mean() <=210:\n",
    "            if ds.pHinsitu.mean() >=0 and ds.pHinsitu.mean() <=14:\n",
    "                Bin7.append(files[i])\n",
    "Bin8=[]\n",
    "for i in range (0,len(files[i])):\n",
    "    ds=xr.open_dataset(files[i])\n",
    "    if ds.Lon.mean() >=210 and ds.Lon.mean() <=240:\n",
    "            if ds.pHinsitu.mean() >=0 and ds.pHinsitu.mean() <=14:\n",
    "                Bin8.append(files[i])\n",
    "Bin9=[]\n",
    "for i in range (0,len(files[i])):\n",
    "    ds=xr.open_dataset(files[i])\n",
    "    if ds.Lon.mean() >=240 and ds.Lon.mean() <=270:\n",
    "            if ds.pHinsitu.mean() >=0 and ds.pHinsitu.mean() <=14:\n",
    "                Bin9.append(files[i])\n",
    "Bin10=[]\n",
    "for i in range (0,len(files[i])):\n",
    "    ds=xr.open_dataset(files[i])\n",
    "    if ds.Lon.mean() >=270 and ds.Lon.mean() <=300:\n",
    "            if ds.pHinsitu.mean() >=0 and ds.pHinsitu.mean() <=14:\n",
    "                Bin10.append(files[i])\n",
    "Bin11=[]\n",
    "for i in range (0,len(files[i])):\n",
    "    ds=xr.open_dataset(files[i])\n",
    "    if ds.Lon.mean() >=300 and ds.Lon.mean() <=330:\n",
    "            if ds.pHinsitu.mean() >=0 and ds.pHinsitu.mean() <=14:\n",
    "                Bin11.append(files[i])\n",
    "Bin12=[]\n",
    "for i in range (0,len(files[i])):\n",
    "    ds=xr.open_dataset(files[i])\n",
    "    if ds.Lon.mean() >=330 and ds.Lon.mean() <=360:\n",
    "            if ds.pHinsitu.mean() >=0 and ds.pHinsitu.mean() <=14:\n",
    "                Bin12.append(files[i])"
   ]
  },
  {
   "cell_type": "code",
   "execution_count": 39,
   "id": "bc3fc04b-24d3-4375-bf24-80623e1936be",
   "metadata": {},
   "outputs": [
    {
     "data": {
      "text/plain": [
       "['/Users/Jocelyne/Desktop/Floats/5905996QC.nc',\n",
       " '/Users/Jocelyne/Desktop/Floats/5906033_HRQC.nc',\n",
       " '/Users/Jocelyne/Desktop/Floats/5904468_HRQC.nc']"
      ]
     },
     "execution_count": 39,
     "metadata": {},
     "output_type": "execute_result"
    }
   ],
   "source": [
    "Bin1"
   ]
  },
  {
   "cell_type": "code",
   "execution_count": 40,
   "id": "b05f8776-e964-4d8f-a5a3-0e3da7914eb5",
   "metadata": {},
   "outputs": [
    {
     "data": {
      "text/plain": [
       "['/Users/Jocelyne/Desktop/Floats/5904473_HRQC.nc',\n",
       " '/Users/Jocelyne/Desktop/Floats/5906032_HRQC.nc',\n",
       " '/Users/Jocelyne/Desktop/Floats/5906211_HRQC.nc',\n",
       " '/Users/Jocelyne/Desktop/Floats/5906030_HRQC.nc']"
      ]
     },
     "execution_count": 40,
     "metadata": {},
     "output_type": "execute_result"
    }
   ],
   "source": [
    "Bin2"
   ]
  },
  {
   "cell_type": "code",
   "execution_count": 41,
   "id": "ef168234-49ec-41ef-99ad-ea939f8f6b08",
   "metadata": {},
   "outputs": [
    {
     "data": {
      "text/plain": [
       "['/Users/Jocelyne/Desktop/Floats/5905367_HRQC.nc',\n",
       " '/Users/Jocelyne/Desktop/Floats/5906208_HRQC.nc']"
      ]
     },
     "execution_count": 41,
     "metadata": {},
     "output_type": "execute_result"
    }
   ],
   "source": [
    "Bin3"
   ]
  },
  {
   "cell_type": "code",
   "execution_count": 42,
   "id": "6471492e-4baf-4a5f-8257-6abdacb6a341",
   "metadata": {},
   "outputs": [
    {
     "data": {
      "text/plain": [
       "['/Users/Jocelyne/Desktop/Floats/5904675_HRQC.nc',\n",
       " '/Users/Jocelyne/Desktop/Floats/5905135_HRQC.nc',\n",
       " '/Users/Jocelyne/Desktop/Floats/5905998_HRQC.nc']"
      ]
     },
     "execution_count": 42,
     "metadata": {},
     "output_type": "execute_result"
    }
   ],
   "source": [
    "Bin4"
   ]
  },
  {
   "cell_type": "code",
   "execution_count": 43,
   "id": "05a062b2-4495-49cb-b763-99b0e9888b32",
   "metadata": {},
   "outputs": [
    {
     "data": {
      "text/plain": [
       "['/Users/Jocelyne/Desktop/Floats/5905375_HRQC.nc']"
      ]
     },
     "execution_count": 43,
     "metadata": {},
     "output_type": "execute_result"
    }
   ],
   "source": [
    "Bin5"
   ]
  },
  {
   "cell_type": "code",
   "execution_count": 44,
   "id": "59cb8d80-92f4-4320-a391-8ba4b1c89900",
   "metadata": {},
   "outputs": [
    {
     "data": {
      "text/plain": [
       "[]"
      ]
     },
     "execution_count": 44,
     "metadata": {},
     "output_type": "execute_result"
    }
   ],
   "source": [
    "Bin6"
   ]
  },
  {
   "cell_type": "code",
   "execution_count": 45,
   "id": "d4758cdb-51fb-41e4-aa30-0041dc262697",
   "metadata": {},
   "outputs": [
    {
     "data": {
      "text/plain": [
       "['/Users/Jocelyne/Desktop/Floats/5904857_HRQC.nc',\n",
       " '/Users/Jocelyne/Desktop/Floats/5904765_HRQC.nc',\n",
       " '/Users/Jocelyne/Desktop/Floats/5905634_HRQC.nc']"
      ]
     },
     "execution_count": 45,
     "metadata": {},
     "output_type": "execute_result"
    }
   ],
   "source": [
    "Bin7"
   ]
  },
  {
   "cell_type": "code",
   "execution_count": 46,
   "id": "2237768a-c807-436b-8fa9-a4d4494f9021",
   "metadata": {},
   "outputs": [
    {
     "data": {
      "text/plain": [
       "['/Users/Jocelyne/Desktop/Floats/5905636_HRQC.nc']"
      ]
     },
     "execution_count": 46,
     "metadata": {},
     "output_type": "execute_result"
    }
   ],
   "source": [
    "Bin8"
   ]
  },
  {
   "cell_type": "code",
   "execution_count": 47,
   "id": "e962340b-50fd-4bb8-a3a5-73fd9d87a4bf",
   "metadata": {},
   "outputs": [
    {
     "data": {
      "text/plain": [
       "['/Users/Jocelyne/Desktop/Floats/5906225_HRQC.nc']"
      ]
     },
     "execution_count": 47,
     "metadata": {},
     "output_type": "execute_result"
    }
   ],
   "source": [
    "Bin9"
   ]
  },
  {
   "cell_type": "code",
   "execution_count": 48,
   "id": "7fa14766-7ecd-48c5-9743-7745b7d63c35",
   "metadata": {},
   "outputs": [
    {
     "data": {
      "text/plain": [
       "['/Users/Jocelyne/Desktop/Floats/5906224_HRQC.nc',\n",
       " '/Users/Jocelyne/Desktop/Floats/5906213_HRQC.nc']"
      ]
     },
     "execution_count": 48,
     "metadata": {},
     "output_type": "execute_result"
    }
   ],
   "source": [
    "Bin10"
   ]
  },
  {
   "cell_type": "code",
   "execution_count": 49,
   "id": "d21fd80e-1897-4e3f-9270-2ad2cdaf03e9",
   "metadata": {},
   "outputs": [
    {
     "data": {
      "text/plain": [
       "['/Users/Jocelyne/Desktop/Floats/5906005_HRQC.nc',\n",
       " '/Users/Jocelyne/Desktop/Floats/5906004_HRQC.nc',\n",
       " '/Users/Jocelyne/Desktop/Floats/5905991_HRQC.nc',\n",
       " '/Users/Jocelyne/Desktop/Floats/5904856_HRQC.nc']"
      ]
     },
     "execution_count": 49,
     "metadata": {},
     "output_type": "execute_result"
    }
   ],
   "source": [
    "Bin11"
   ]
  },
  {
   "cell_type": "code",
   "execution_count": 50,
   "id": "d6f3a650-0553-4aaf-9443-71f7d2f3cd83",
   "metadata": {},
   "outputs": [
    {
     "data": {
      "text/plain": [
       "['/Users/Jocelyne/Desktop/Floats/5904472_HRQC.nc',\n",
       " '/Users/Jocelyne/Desktop/Floats/5905993_HRQC.nc']"
      ]
     },
     "execution_count": 50,
     "metadata": {},
     "output_type": "execute_result"
    }
   ],
   "source": [
    "Bin12"
   ]
  },
  {
   "cell_type": "markdown",
   "id": "b03f296f-4bd4-4131-a0fa-4f4cc506670e",
   "metadata": {},
   "source": [
    "## Bin 1"
   ]
  },
  {
   "cell_type": "code",
   "execution_count": 22,
   "id": "9962c309-101c-4b22-a84d-8756a67e9085",
   "metadata": {},
   "outputs": [
    {
     "data": {
      "image/png": "[encoded data removed]",
      "text/plain": [
       "<Figure size 432x288 with 1 Axes>"
      ]
     },
     "metadata": {},
     "output_type": "display_data"
    }
   ],
   "source": [
    "Bin1=[]\n",
    "for i in range (0,len(files[i])):\n",
    "    ds=xr.open_dataset(files[i])\n",
    "    if ds.Lon.mean() >=0 and ds.Lon.mean() <=30:\n",
    "        if ds.pHinsitu.mean() >= 0 and ds.pHinsitu.mean() <=14:\n",
    "            Bin1.append(files[i])\n",
    "            plt.scatter(ds.pHinsitu, ds.Depth);\n",
    "            plt.xlabel('Phinsitu')\n",
    "            plt.ylabel('Depth')\n",
    "            plt.grid"
   ]
  },
  {
   "cell_type": "markdown",
   "id": "25f66b2a-e6de-4b21-8529-29f840416fea",
   "metadata": {},
   "source": [
    "## Bin 2"
   ]
  },
  {
   "cell_type": "code",
   "execution_count": 23,
   "id": "9300df6e-07a5-4fce-a030-1c52bff9877f",
   "metadata": {},
   "outputs": [
    {
     "data": {
      "image/png": "[encoded data removed]",
      "text/plain": [
       "<Figure size 432x288 with 1 Axes>"
      ]
     },
     "metadata": {},
     "output_type": "display_data"
    }
   ],
   "source": [
    "Bin2=[]\n",
    "for i in range (0,len(files[i])):\n",
    "    ds=xr.open_dataset(files[i])\n",
    "    if ds.Lon.mean() >=30 and ds.Lon.mean() <=60:\n",
    "        if ds.pHinsitu.mean() >= 0 and ds.pHinsitu.mean() <=14:\n",
    "            Bin2.append(files[i])\n",
    "            plt.scatter(ds.pHinsitu, ds.Depth);\n",
    "            plt.xlabel('Phinsitu')\n",
    "            plt.ylabel('Depth')\n",
    "            plt.grid"
   ]
  },
  {
   "cell_type": "markdown",
   "id": "0f54257a-77c2-4d6d-9315-85d84681c506",
   "metadata": {},
   "source": [
    "## Bin 3"
   ]
  },
  {
   "cell_type": "code",
   "execution_count": 24,
   "id": "7499e637-aab5-47f3-bf6d-9deb7c1e5a02",
   "metadata": {},
   "outputs": [
    {
     "data": {
      "image/png": "[encoded data removed]",
      "text/plain": [
       "<Figure size 432x288 with 1 Axes>"
      ]
     },
     "metadata": {},
     "output_type": "display_data"
    }
   ],
   "source": [
    "Bin3=[]\n",
    "for i in range (0,len(files[i])):\n",
    "    ds=xr.open_dataset(files[i])\n",
    "    if ds.Lon.mean() >=60 and ds.Lon.mean() <=90:\n",
    "        if ds.pHinsitu.mean() >= 0 and ds.pHinsitu.mean() <=14:\n",
    "            Bin3.append(files[i])\n",
    "            plt.scatter(ds.pHinsitu, ds.Depth);\n",
    "            plt.xlabel('Phinsitu')\n",
    "            plt.ylabel('Depth')\n",
    "            plt.grid"
   ]
  },
  {
   "cell_type": "markdown",
   "id": "a1d8eac8-8bdb-4b29-ba60-ee52c408cd57",
   "metadata": {},
   "source": [
    "## Bin 4"
   ]
  },
  {
   "cell_type": "code",
   "execution_count": 25,
   "id": "0d687a3e-b59e-407e-8497-bd0538aba67c",
   "metadata": {},
   "outputs": [
    {
     "data": {
      "image/png": "[encoded data removed]",
      "text/plain": [
       "<Figure size 432x288 with 1 Axes>"
      ]
     },
     "metadata": {},
     "output_type": "display_data"
    }
   ],
   "source": [
    "Bin4=[]\n",
    "for i in range (0,len(files[i])):\n",
    "    ds=xr.open_dataset(files[i])\n",
    "    if ds.Lon.mean() >=90 and ds.Lon.mean() <=120:\n",
    "        if ds.pHinsitu.mean() >= 0 and ds.pHinsitu.mean() <=14:\n",
    "            Bin4.append(files[i])\n",
    "            plt.scatter(ds.pHinsitu, ds.Depth);\n",
    "            plt.xlabel('Phinsitu')\n",
    "            plt.ylabel('Depth')\n",
    "            plt.grid"
   ]
  },
  {
   "cell_type": "markdown",
   "id": "63b02495-9bcd-4d81-be18-9c9425decec7",
   "metadata": {},
   "source": [
    "## Bin 5"
   ]
  },
  {
   "cell_type": "code",
   "execution_count": 26,
   "id": "43ee49f2-928a-47ac-8c87-5b3680024cb5",
   "metadata": {},
   "outputs": [
    {
     "data": {
      "image/png": "[encoded data removed]",
      "text/plain": [
       "<Figure size 432x288 with 1 Axes>"
      ]
     },
     "metadata": {},
     "output_type": "display_data"
    }
   ],
   "source": [
    "Bin5=[]\n",
    "for i in range (0,len(files[i])):\n",
    "    ds=xr.open_dataset(files[i])\n",
    "    if ds.Lon.mean() >=120 and ds.Lon.mean() <=150:\n",
    "        if ds.pHinsitu.mean() >= 0 and ds.pHinsitu.mean() <=14:\n",
    "            Bin5.append(files[i])\n",
    "            plt.scatter(ds.pHinsitu, ds.Depth);\n",
    "            plt.xlabel('Phinsitu')\n",
    "            plt.ylabel('Depth')\n",
    "            plt.grid"
   ]
  },
  {
   "cell_type": "markdown",
   "id": "12ca97a4-c909-43b0-a9cb-c7499b14b81f",
   "metadata": {},
   "source": [
    "## Bin 6"
   ]
  },
  {
   "cell_type": "code",
   "execution_count": 38,
   "id": "7d60ac5e-59ba-44a7-b7e0-20df4acae1ff",
   "metadata": {},
   "outputs": [],
   "source": [
    "Bin6=[]\n",
    "for i in range (0,len(files[i])):\n",
    "    ds=xr.open_dataset(files[i])\n",
    "    if ds.Lon.mean() >=150 and ds.Lon.mean() <=180:\n",
    "        if ds.pHinsitu.mean() >= 0 and ds.pHinsitu.mean() <=14:\n",
    "            Bin6.append(files[i])\n",
    "            plt.scatter(ds.pHinsitu, ds.Depth);\n",
    "            plt.xlabel('Phinsitu')\n",
    "            plt.ylabel('Depth')\n",
    "            plt.grid"
   ]
  },
  {
   "cell_type": "markdown",
   "id": "4b497069-d869-4440-ac09-4391f93e2a25",
   "metadata": {},
   "source": [
    "## Bin 7"
   ]
  },
  {
   "cell_type": "code",
   "execution_count": 30,
   "id": "a495543b-a295-4b41-aacc-50544ab49aba",
   "metadata": {},
   "outputs": [
    {
     "data": {
      "image/png": "[encoded data removed]",
      "text/plain": [
       "<Figure size 432x288 with 1 Axes>"
      ]
     },
     "metadata": {},
     "output_type": "display_data"
    }
   ],
   "source": [
    "Bin7=[]\n",
    "for i in range (0,len(files[i])):\n",
    "    ds=xr.open_dataset(files[i])\n",
    "    if ds.Lon.mean() >=180 and ds.Lon.mean() <=210:\n",
    "        if ds.pHinsitu.mean() >= 0 and ds.pHinsitu.mean() <=14:\n",
    "            Bin7.append(files[i])\n",
    "            plt.scatter(ds.pHinsitu, ds.Depth);\n",
    "            plt.xlabel('Phinsitu')\n",
    "            plt.ylabel('Depth')\n",
    "            plt.grid"
   ]
  },
  {
   "cell_type": "markdown",
   "id": "93ced1a2-3eb9-439b-be3e-cfeb1a74d1c4",
   "metadata": {},
   "source": [
    "## Bin 8"
   ]
  },
  {
   "cell_type": "code",
   "execution_count": 32,
   "id": "35a9b4de-3962-4f1c-b9bb-624a690e6d66",
   "metadata": {},
   "outputs": [
    {
     "data": {
      "image/png": "[encoded data removed]",
      "text/plain": [
       "<Figure size 432x288 with 1 Axes>"
      ]
     },
     "metadata": {},
     "output_type": "display_data"
    }
   ],
   "source": [
    "Bin8=[]\n",
    "for i in range (0,len(files[i])):\n",
    "    ds=xr.open_dataset(files[i])\n",
    "    if ds.Lon.mean() >=210 and ds.Lon.mean() <=240:\n",
    "        if ds.pHinsitu.mean() >= 0 and ds.pHinsitu.mean() <=14:\n",
    "            Bin8.append(files[i])\n",
    "            plt.scatter(ds.pHinsitu, ds.Depth);\n",
    "            plt.xlabel('Phinsitu')\n",
    "            plt.ylabel('Depth')\n",
    "            plt.grid"
   ]
  },
  {
   "cell_type": "markdown",
   "id": "f75fb9cc-ee16-4903-b9d0-2a1b2e083734",
   "metadata": {},
   "source": [
    "## Bin 9"
   ]
  },
  {
   "cell_type": "code",
   "execution_count": 33,
   "id": "9545be33-2056-4528-829f-b4ba81018d69",
   "metadata": {},
   "outputs": [
    {
     "data": {
      "image/png": "[encoded data removed]",
      "text/plain": [
       "<Figure size 432x288 with 1 Axes>"
      ]
     },
     "metadata": {},
     "output_type": "display_data"
    }
   ],
   "source": [
    "Bin9=[]\n",
    "for i in range (0,len(files[i])):\n",
    "    ds=xr.open_dataset(files[i])\n",
    "    if ds.Lon.mean() >=240 and ds.Lon.mean() <=270:\n",
    "        if ds.pHinsitu.mean() >= 0 and ds.pHinsitu.mean() <=14:\n",
    "            Bin9.append(files[i])\n",
    "            plt.scatter(ds.pHinsitu, ds.Depth);\n",
    "            plt.xlabel('Phinsitu')\n",
    "            plt.ylabel('Depth')\n",
    "            plt.grid"
   ]
  },
  {
   "cell_type": "markdown",
   "id": "c9496ac5-d402-4965-b5d6-f983832626f6",
   "metadata": {},
   "source": [
    "## Bin 10"
   ]
  },
  {
   "cell_type": "code",
   "execution_count": 34,
   "id": "6a04e3f1-ed09-4d06-98f0-88318ad966a7",
   "metadata": {},
   "outputs": [
    {
     "data": {
      "image/png": "[encoded data removed]",
      "text/plain": [
       "<Figure size 432x288 with 1 Axes>"
      ]
     },
     "metadata": {},
     "output_type": "display_data"
    }
   ],
   "source": [
    "Bin10=[]\n",
    "for i in range (0,len(files[i])):\n",
    "    ds=xr.open_dataset(files[i])\n",
    "    if ds.Lon.mean() >=270 and ds.Lon.mean() <=300:\n",
    "        if ds.pHinsitu.mean() >= 0 and ds.pHinsitu.mean() <=14:\n",
    "            Bin10.append(files[i])\n",
    "            plt.scatter(ds.pHinsitu, ds.Depth);\n",
    "            plt.xlabel('Phinsitu')\n",
    "            plt.ylabel('Depth')\n",
    "            plt.grid"
   ]
  },
  {
   "cell_type": "markdown",
   "id": "3046a9b9-b819-43e6-9863-4d599199a431",
   "metadata": {},
   "source": [
    "## Bin 11"
   ]
  },
  {
   "cell_type": "code",
   "execution_count": 35,
   "id": "104d7bcf-8356-46f8-b004-f1a4239ab852",
   "metadata": {},
   "outputs": [
    {
     "data": {
      "image/png": "[encoded data removed]",
      "text/plain": [
       "<Figure size 432x288 with 1 Axes>"
      ]
     },
     "metadata": {},
     "output_type": "display_data"
    }
   ],
   "source": [
    "Bin11=[]\n",
    "for i in range (0,len(files[i])):\n",
    "    ds=xr.open_dataset(files[i])\n",
    "    if ds.Lon.mean() >=300 and ds.Lon.mean() <=330:\n",
    "        if ds.pHinsitu.mean() >= 0 and ds.pHinsitu.mean() <=14:\n",
    "            Bin11.append(files[i])\n",
    "            plt.scatter(ds.pHinsitu, ds.Depth);\n",
    "            plt.xlabel('Phinsitu')\n",
    "            plt.ylabel('Depth')\n",
    "            plt.grid"
   ]
  },
  {
   "cell_type": "markdown",
   "id": "21fe5a40-855f-4b80-8af3-0b0bb505f2d0",
   "metadata": {},
   "source": [
    "## Bin 12"
   ]
  },
  {
   "cell_type": "code",
   "execution_count": 36,
   "id": "b24f5f4b-0eef-4118-81e9-f02ab6932c18",
   "metadata": {},
   "outputs": [
    {
     "data": {
      "image/png": "[encoded data removed]",
      "text/plain": [
       "<Figure size 432x288 with 1 Axes>"
      ]
     },
     "metadata": {},
     "output_type": "display_data"
    }
   ],
   "source": [
    "Bin12=[]\n",
    "for i in range (0,len(files[i])):\n",
    "    ds=xr.open_dataset(files[i])\n",
    "    if ds.Lon.mean() >=330 and ds.Lon.mean() <=360:\n",
    "        if ds.pHinsitu.mean() >= 0 and ds.pHinsitu.mean() <=14:\n",
    "            Bin12.append(files[i])\n",
    "            plt.scatter(ds.pHinsitu, ds.Depth);\n",
    "            plt.xlabel('Phinsitu')\n",
    "            plt.ylabel('Depth')\n",
    "            plt.grid"
   ]
  },
  {
   "cell_type": "code",
   "execution_count": null,
   "id": "909f1632-7b10-4173-9c44-7c5aaee37c96",
   "metadata": {},
   "outputs": [],
   "source": []
  }
 ],
 "metadata": {
  "kernelspec": {
   "display_name": "Python 3",
   "language": "python",
   "name": "python3"
  },
  "language_info": {
   "codemirror_mode": {
    "name": "ipython",
    "version": 3
   },
   "file_extension": ".py",
   "mimetype": "text/x-python",
   "name": "python",
   "nbconvert_exporter": "python",
   "pygments_lexer": "ipython3",
   "version": "3.8.8"
  }
 },
 "nbformat": 4,
 "nbformat_minor": 5
}
